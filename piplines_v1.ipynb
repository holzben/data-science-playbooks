{
 "cells": [
  {
   "cell_type": "markdown",
   "metadata": {},
   "source": [
    "# Getting started with pilines"
   ]
  },
  {
   "cell_type": "code",
   "execution_count": 1,
   "metadata": {},
   "outputs": [],
   "source": [
    "import pandas as pd\n",
    "import numpy as np\n",
    "from sklearn.model_selection import train_test_split\n",
    "from sklearn.pipeline import Pipeline\n",
    "from sklearn.preprocessing import StandardScaler, OneHotEncoder\n",
    "from sklearn.impute import SimpleImputer\n",
    "from sklearn.compose import ColumnTransformer\n",
    "from sklearn.ensemble import RandomForestClassifier\n",
    "from sklearn.base import BaseEstimator, TransformerMixin\n",
    "from typing import List, Any"
   ]
  },
  {
   "cell_type": "code",
   "execution_count": 2,
   "metadata": {},
   "outputs": [],
   "source": [
    "from tkinter import NUMERIC\n",
    "\n",
    "\n",
    "URL_TO_DATA = (\n",
    "    \"https://raw.githubusercontent.com/datasciencedojo/datasets/master/titanic.csv\"\n",
    ")\n",
    "TEST_SIZE = 0.2\n",
    "VALID_SIZE = 0.25\n",
    "RANDOM_STATE = 42\n",
    "NUMERIC_TRANSFORMER_REPLACEMENT = \"median\""
   ]
  },
  {
   "cell_type": "code",
   "execution_count": 17,
   "metadata": {},
   "outputs": [],
   "source": [
    "df = pd.read_csv(filepath_or_buffer=URL_TO_DATA, index_col=0)\n",
    "\n",
    "df[\"FamilySize\"] = df[\"SibSp\"] + df[\"Parch\"] + 1"
   ]
  },
  {
   "cell_type": "code",
   "execution_count": 18,
   "metadata": {},
   "outputs": [],
   "source": [
    "y = df[\"Survived\"]\n",
    "X = df.drop(columns=[\"Survived\"])\n",
    "\n",
    "X_train, X_test, y_train, y_test = train_test_split(\n",
    "    X, y, test_size=TEST_SIZE, random_state=RANDOM_STATE\n",
    ")\n",
    "X_train, X_val, y_train, y_val = train_test_split(\n",
    "    X_train, y_train, test_size=VALID_SIZE, random_state=RANDOM_STATE\n",
    ")  # 0.25 x 0.8 = 0.2"
   ]
  },
  {
   "cell_type": "code",
   "execution_count": 16,
   "metadata": {},
   "outputs": [
    {
     "data": {
      "text/html": [
       "<div>\n",
       "<style scoped>\n",
       "    .dataframe tbody tr th:only-of-type {\n",
       "        vertical-align: middle;\n",
       "    }\n",
       "\n",
       "    .dataframe tbody tr th {\n",
       "        vertical-align: top;\n",
       "    }\n",
       "\n",
       "    .dataframe thead th {\n",
       "        text-align: right;\n",
       "    }\n",
       "</style>\n",
       "<table border=\"1\" class=\"dataframe\">\n",
       "  <thead>\n",
       "    <tr style=\"text-align: right;\">\n",
       "      <th></th>\n",
       "      <th>Pclass</th>\n",
       "      <th>Name</th>\n",
       "      <th>Sex</th>\n",
       "      <th>Age</th>\n",
       "      <th>SibSp</th>\n",
       "      <th>Parch</th>\n",
       "      <th>Ticket</th>\n",
       "      <th>Fare</th>\n",
       "      <th>Cabin</th>\n",
       "      <th>Embarked</th>\n",
       "      <th>FamilySize</th>\n",
       "      <th>isAlone</th>\n",
       "    </tr>\n",
       "    <tr>\n",
       "      <th>PassengerId</th>\n",
       "      <th></th>\n",
       "      <th></th>\n",
       "      <th></th>\n",
       "      <th></th>\n",
       "      <th></th>\n",
       "      <th></th>\n",
       "      <th></th>\n",
       "      <th></th>\n",
       "      <th></th>\n",
       "      <th></th>\n",
       "      <th></th>\n",
       "      <th></th>\n",
       "    </tr>\n",
       "  </thead>\n",
       "  <tbody>\n",
       "    <tr>\n",
       "      <th>461</th>\n",
       "      <td>1</td>\n",
       "      <td>Anderson, Mr. Harry</td>\n",
       "      <td>male</td>\n",
       "      <td>48.0</td>\n",
       "      <td>0</td>\n",
       "      <td>0</td>\n",
       "      <td>19952</td>\n",
       "      <td>26.55</td>\n",
       "      <td>E12</td>\n",
       "      <td>S</td>\n",
       "      <td>1</td>\n",
       "      <td>True</td>\n",
       "    </tr>\n",
       "    <tr>\n",
       "      <th>302</th>\n",
       "      <td>3</td>\n",
       "      <td>McCoy, Mr. Bernard</td>\n",
       "      <td>male</td>\n",
       "      <td>NaN</td>\n",
       "      <td>2</td>\n",
       "      <td>0</td>\n",
       "      <td>367226</td>\n",
       "      <td>23.25</td>\n",
       "      <td>NaN</td>\n",
       "      <td>Q</td>\n",
       "      <td>3</td>\n",
       "      <td>False</td>\n",
       "    </tr>\n",
       "    <tr>\n",
       "      <th>386</th>\n",
       "      <td>2</td>\n",
       "      <td>Davies, Mr. Charles Henry</td>\n",
       "      <td>male</td>\n",
       "      <td>18.0</td>\n",
       "      <td>0</td>\n",
       "      <td>0</td>\n",
       "      <td>S.O.C. 14879</td>\n",
       "      <td>73.50</td>\n",
       "      <td>NaN</td>\n",
       "      <td>S</td>\n",
       "      <td>1</td>\n",
       "      <td>True</td>\n",
       "    </tr>\n",
       "    <tr>\n",
       "      <th>321</th>\n",
       "      <td>3</td>\n",
       "      <td>Dennis, Mr. Samuel</td>\n",
       "      <td>male</td>\n",
       "      <td>22.0</td>\n",
       "      <td>0</td>\n",
       "      <td>0</td>\n",
       "      <td>A/5 21172</td>\n",
       "      <td>7.25</td>\n",
       "      <td>NaN</td>\n",
       "      <td>S</td>\n",
       "      <td>1</td>\n",
       "      <td>True</td>\n",
       "    </tr>\n",
       "    <tr>\n",
       "      <th>346</th>\n",
       "      <td>2</td>\n",
       "      <td>Brown, Miss. Amelia \"Mildred\"</td>\n",
       "      <td>female</td>\n",
       "      <td>24.0</td>\n",
       "      <td>0</td>\n",
       "      <td>0</td>\n",
       "      <td>248733</td>\n",
       "      <td>13.00</td>\n",
       "      <td>F33</td>\n",
       "      <td>S</td>\n",
       "      <td>1</td>\n",
       "      <td>True</td>\n",
       "    </tr>\n",
       "  </tbody>\n",
       "</table>\n",
       "</div>"
      ],
      "text/plain": [
       "             Pclass                           Name     Sex   Age  SibSp  \\\n",
       "PassengerId                                                               \n",
       "461               1            Anderson, Mr. Harry    male  48.0      0   \n",
       "302               3             McCoy, Mr. Bernard    male   NaN      2   \n",
       "386               2      Davies, Mr. Charles Henry    male  18.0      0   \n",
       "321               3             Dennis, Mr. Samuel    male  22.0      0   \n",
       "346               2  Brown, Miss. Amelia \"Mildred\"  female  24.0      0   \n",
       "\n",
       "             Parch        Ticket   Fare Cabin Embarked  FamilySize  isAlone  \n",
       "PassengerId                                                                  \n",
       "461              0         19952  26.55   E12        S           1     True  \n",
       "302              0        367226  23.25   NaN        Q           3    False  \n",
       "386              0  S.O.C. 14879  73.50   NaN        S           1     True  \n",
       "321              0     A/5 21172   7.25   NaN        S           1     True  \n",
       "346              0        248733  13.00   F33        S           1     True  "
      ]
     },
     "execution_count": 16,
     "metadata": {},
     "output_type": "execute_result"
    }
   ],
   "source": [
    "X_train.dtypes\n",
    "\n",
    "X_train.head()"
   ]
  },
  {
   "cell_type": "code",
   "execution_count": 41,
   "metadata": {},
   "outputs": [],
   "source": [
    "numeric_features = [\"Age\", \"Fare\"]\n",
    "categorical_features = [\"Pclass\", \"Sex\", \"SibSp\", \"Parch\", \"Embarked\"]\n",
    "discretized_features = [\"FamilySize\"]\n",
    "BINS = [0, 1, 2, 4, np.Inf]\n",
    "\n",
    "LABLES = ['ALONE', 'SMALL',  'MED', 'LARGE']"
   ]
  },
  {
   "cell_type": "code",
   "execution_count": 45,
   "metadata": {},
   "outputs": [],
   "source": [
    "class Discretizer(BaseEstimator, TransformerMixin):\n",
    "    \"\"\"\n",
    "    Use transformer to discretize numeric data. Interface to pandas:`~pandas.cut`\n",
    "\n",
    "    \"\"\"\n",
    "\n",
    "    def __init__(self, bins: Any, labels: Any = None, **kwargs):\n",
    "\n",
    "        #self.column = column\n",
    "        self.bins = bins\n",
    "        self.labels = labels\n",
    "        self.kwargs = kwargs\n",
    "\n",
    "    def fit(self, X, y=None):\n",
    "        return self\n",
    "\n",
    "    def transform(self, X):\n",
    "        return pd.cut(\n",
    "            x=X, bins=self.bins, labels=self.labels, **self.kwargs\n",
    "        )\n",
    "\n"
   ]
  },
  {
   "cell_type": "code",
   "execution_count": 43,
   "metadata": {},
   "outputs": [
    {
     "data": {
      "text/html": [
       "<style>#sk-container-id-6 {color: black;background-color: white;}#sk-container-id-6 pre{padding: 0;}#sk-container-id-6 div.sk-toggleable {background-color: white;}#sk-container-id-6 label.sk-toggleable__label {cursor: pointer;display: block;width: 100%;margin-bottom: 0;padding: 0.3em;box-sizing: border-box;text-align: center;}#sk-container-id-6 label.sk-toggleable__label-arrow:before {content: \"▸\";float: left;margin-right: 0.25em;color: #696969;}#sk-container-id-6 label.sk-toggleable__label-arrow:hover:before {color: black;}#sk-container-id-6 div.sk-estimator:hover label.sk-toggleable__label-arrow:before {color: black;}#sk-container-id-6 div.sk-toggleable__content {max-height: 0;max-width: 0;overflow: hidden;text-align: left;background-color: #f0f8ff;}#sk-container-id-6 div.sk-toggleable__content pre {margin: 0.2em;color: black;border-radius: 0.25em;background-color: #f0f8ff;}#sk-container-id-6 input.sk-toggleable__control:checked~div.sk-toggleable__content {max-height: 200px;max-width: 100%;overflow: auto;}#sk-container-id-6 input.sk-toggleable__control:checked~label.sk-toggleable__label-arrow:before {content: \"▾\";}#sk-container-id-6 div.sk-estimator input.sk-toggleable__control:checked~label.sk-toggleable__label {background-color: #d4ebff;}#sk-container-id-6 div.sk-label input.sk-toggleable__control:checked~label.sk-toggleable__label {background-color: #d4ebff;}#sk-container-id-6 input.sk-hidden--visually {border: 0;clip: rect(1px 1px 1px 1px);clip: rect(1px, 1px, 1px, 1px);height: 1px;margin: -1px;overflow: hidden;padding: 0;position: absolute;width: 1px;}#sk-container-id-6 div.sk-estimator {font-family: monospace;background-color: #f0f8ff;border: 1px dotted black;border-radius: 0.25em;box-sizing: border-box;margin-bottom: 0.5em;}#sk-container-id-6 div.sk-estimator:hover {background-color: #d4ebff;}#sk-container-id-6 div.sk-parallel-item::after {content: \"\";width: 100%;border-bottom: 1px solid gray;flex-grow: 1;}#sk-container-id-6 div.sk-label:hover label.sk-toggleable__label {background-color: #d4ebff;}#sk-container-id-6 div.sk-serial::before {content: \"\";position: absolute;border-left: 1px solid gray;box-sizing: border-box;top: 0;bottom: 0;left: 50%;z-index: 0;}#sk-container-id-6 div.sk-serial {display: flex;flex-direction: column;align-items: center;background-color: white;padding-right: 0.2em;padding-left: 0.2em;position: relative;}#sk-container-id-6 div.sk-item {position: relative;z-index: 1;}#sk-container-id-6 div.sk-parallel {display: flex;align-items: stretch;justify-content: center;background-color: white;position: relative;}#sk-container-id-6 div.sk-item::before, #sk-container-id-6 div.sk-parallel-item::before {content: \"\";position: absolute;border-left: 1px solid gray;box-sizing: border-box;top: 0;bottom: 0;left: 50%;z-index: -1;}#sk-container-id-6 div.sk-parallel-item {display: flex;flex-direction: column;z-index: 1;position: relative;background-color: white;}#sk-container-id-6 div.sk-parallel-item:first-child::after {align-self: flex-end;width: 50%;}#sk-container-id-6 div.sk-parallel-item:last-child::after {align-self: flex-start;width: 50%;}#sk-container-id-6 div.sk-parallel-item:only-child::after {width: 0;}#sk-container-id-6 div.sk-dashed-wrapped {border: 1px dashed gray;margin: 0 0.4em 0.5em 0.4em;box-sizing: border-box;padding-bottom: 0.4em;background-color: white;}#sk-container-id-6 div.sk-label label {font-family: monospace;font-weight: bold;display: inline-block;line-height: 1.2em;}#sk-container-id-6 div.sk-label-container {text-align: center;}#sk-container-id-6 div.sk-container {/* jupyter's `normalize.less` sets `[hidden] { display: none; }` but bootstrap.min.css set `[hidden] { display: none !important; }` so we also need the `!important` here to be able to override the default hidden behavior on the sphinx rendered scikit-learn.org. See: https://github.com/scikit-learn/scikit-learn/issues/21755 */display: inline-block !important;position: relative;}#sk-container-id-6 div.sk-text-repr-fallback {display: none;}</style><div id=\"sk-container-id-6\" class=\"sk-top-container\"><div class=\"sk-text-repr-fallback\"><pre>Pipeline(steps=[(&#x27;imputer&#x27;, SimpleImputer(strategy=&#x27;median&#x27;)),\n",
       "                (&#x27;scaler&#x27;, StandardScaler())])</pre><b>In a Jupyter environment, please rerun this cell to show the HTML representation or trust the notebook. <br />On GitHub, the HTML representation is unable to render, please try loading this page with nbviewer.org.</b></div><div class=\"sk-container\" hidden><div class=\"sk-item sk-dashed-wrapped\"><div class=\"sk-label-container\"><div class=\"sk-label sk-toggleable\"><input class=\"sk-toggleable__control sk-hidden--visually\" id=\"sk-estimator-id-18\" type=\"checkbox\" ><label for=\"sk-estimator-id-18\" class=\"sk-toggleable__label sk-toggleable__label-arrow\">Pipeline</label><div class=\"sk-toggleable__content\"><pre>Pipeline(steps=[(&#x27;imputer&#x27;, SimpleImputer(strategy=&#x27;median&#x27;)),\n",
       "                (&#x27;scaler&#x27;, StandardScaler())])</pre></div></div></div><div class=\"sk-serial\"><div class=\"sk-item\"><div class=\"sk-estimator sk-toggleable\"><input class=\"sk-toggleable__control sk-hidden--visually\" id=\"sk-estimator-id-19\" type=\"checkbox\" ><label for=\"sk-estimator-id-19\" class=\"sk-toggleable__label sk-toggleable__label-arrow\">SimpleImputer</label><div class=\"sk-toggleable__content\"><pre>SimpleImputer(strategy=&#x27;median&#x27;)</pre></div></div></div><div class=\"sk-item\"><div class=\"sk-estimator sk-toggleable\"><input class=\"sk-toggleable__control sk-hidden--visually\" id=\"sk-estimator-id-20\" type=\"checkbox\" ><label for=\"sk-estimator-id-20\" class=\"sk-toggleable__label sk-toggleable__label-arrow\">StandardScaler</label><div class=\"sk-toggleable__content\"><pre>StandardScaler()</pre></div></div></div></div></div></div></div>"
      ],
      "text/plain": [
       "Pipeline(steps=[('imputer', SimpleImputer(strategy='median')),\n",
       "                ('scaler', StandardScaler())])"
      ]
     },
     "execution_count": 43,
     "metadata": {},
     "output_type": "execute_result"
    }
   ],
   "source": [
    "numeric_transformer = Pipeline(\n",
    "    steps=[\n",
    "        (\n",
    "            \"imputer\",\n",
    "            SimpleImputer(strategy=NUMERIC_TRANSFORMER_REPLACEMENT),\n",
    "        ),\n",
    "        (\"scaler\", StandardScaler()),\n",
    "    ]\n",
    ")\n",
    "numeric_transformer"
   ]
  },
  {
   "cell_type": "code",
   "execution_count": 44,
   "metadata": {},
   "outputs": [
    {
     "ename": "ValueError",
     "evalue": "not enough values to unpack (expected 3, got 2)",
     "output_type": "error",
     "traceback": [
      "\u001b[0;31m---------------------------------------------------------------------------\u001b[0m",
      "\u001b[0;31mValueError\u001b[0m                                Traceback (most recent call last)",
      "File \u001b[0;32m/Library/Frameworks/Python.framework/Versions/3.10/lib/python3.10/site-packages/IPython/core/formatters.py:973\u001b[0m, in \u001b[0;36mMimeBundleFormatter.__call__\u001b[0;34m(self, obj, include, exclude)\u001b[0m\n\u001b[1;32m    970\u001b[0m     method \u001b[39m=\u001b[39m get_real_method(obj, \u001b[39mself\u001b[39m\u001b[39m.\u001b[39mprint_method)\n\u001b[1;32m    972\u001b[0m     \u001b[39mif\u001b[39;00m method \u001b[39mis\u001b[39;00m \u001b[39mnot\u001b[39;00m \u001b[39mNone\u001b[39;00m:\n\u001b[0;32m--> 973\u001b[0m         \u001b[39mreturn\u001b[39;00m method(include\u001b[39m=\u001b[39;49minclude, exclude\u001b[39m=\u001b[39;49mexclude)\n\u001b[1;32m    974\u001b[0m     \u001b[39mreturn\u001b[39;00m \u001b[39mNone\u001b[39;00m\n\u001b[1;32m    975\u001b[0m \u001b[39melse\u001b[39;00m:\n",
      "File \u001b[0;32m/Library/Frameworks/Python.framework/Versions/3.10/lib/python3.10/site-packages/sklearn/base.py:631\u001b[0m, in \u001b[0;36mBaseEstimator._repr_mimebundle_\u001b[0;34m(self, **kwargs)\u001b[0m\n\u001b[1;32m    629\u001b[0m output \u001b[39m=\u001b[39m {\u001b[39m\"\u001b[39m\u001b[39mtext/plain\u001b[39m\u001b[39m\"\u001b[39m: \u001b[39mrepr\u001b[39m(\u001b[39mself\u001b[39m)}\n\u001b[1;32m    630\u001b[0m \u001b[39mif\u001b[39;00m get_config()[\u001b[39m\"\u001b[39m\u001b[39mdisplay\u001b[39m\u001b[39m\"\u001b[39m] \u001b[39m==\u001b[39m \u001b[39m\"\u001b[39m\u001b[39mdiagram\u001b[39m\u001b[39m\"\u001b[39m:\n\u001b[0;32m--> 631\u001b[0m     output[\u001b[39m\"\u001b[39m\u001b[39mtext/html\u001b[39m\u001b[39m\"\u001b[39m] \u001b[39m=\u001b[39m estimator_html_repr(\u001b[39mself\u001b[39;49m)\n\u001b[1;32m    632\u001b[0m \u001b[39mreturn\u001b[39;00m output\n",
      "File \u001b[0;32m/Library/Frameworks/Python.framework/Versions/3.10/lib/python3.10/site-packages/sklearn/utils/_estimator_html_repr.py:410\u001b[0m, in \u001b[0;36mestimator_html_repr\u001b[0;34m(estimator)\u001b[0m\n\u001b[1;32m    396\u001b[0m fallback_msg \u001b[39m=\u001b[39m (\n\u001b[1;32m    397\u001b[0m     \u001b[39m\"\u001b[39m\u001b[39mIn a Jupyter environment, please rerun this cell to show the HTML\u001b[39m\u001b[39m\"\u001b[39m\n\u001b[1;32m    398\u001b[0m     \u001b[39m\"\u001b[39m\u001b[39m representation or trust the notebook. <br />On GitHub, the\u001b[39m\u001b[39m\"\u001b[39m\n\u001b[1;32m    399\u001b[0m     \u001b[39m\"\u001b[39m\u001b[39m HTML representation is unable to render, please try loading this page\u001b[39m\u001b[39m\"\u001b[39m\n\u001b[1;32m    400\u001b[0m     \u001b[39m\"\u001b[39m\u001b[39m with nbviewer.org.\u001b[39m\u001b[39m\"\u001b[39m\n\u001b[1;32m    401\u001b[0m )\n\u001b[1;32m    402\u001b[0m out\u001b[39m.\u001b[39mwrite(\n\u001b[1;32m    403\u001b[0m     \u001b[39mf\u001b[39m\u001b[39m\"\u001b[39m\u001b[39m<style>\u001b[39m\u001b[39m{\u001b[39;00mstyle_with_id\u001b[39m}\u001b[39;00m\u001b[39m</style>\u001b[39m\u001b[39m\"\u001b[39m\n\u001b[1;32m    404\u001b[0m     \u001b[39mf\u001b[39m\u001b[39m'\u001b[39m\u001b[39m<div id=\u001b[39m\u001b[39m\"\u001b[39m\u001b[39m{\u001b[39;00mcontainer_id\u001b[39m}\u001b[39;00m\u001b[39m\"\u001b[39m\u001b[39m class=\u001b[39m\u001b[39m\"\u001b[39m\u001b[39msk-top-container\u001b[39m\u001b[39m\"\u001b[39m\u001b[39m>\u001b[39m\u001b[39m'\u001b[39m\n\u001b[0;32m   (...)\u001b[0m\n\u001b[1;32m    408\u001b[0m     \u001b[39m'\u001b[39m\u001b[39m<div class=\u001b[39m\u001b[39m\"\u001b[39m\u001b[39msk-container\u001b[39m\u001b[39m\"\u001b[39m\u001b[39m hidden>\u001b[39m\u001b[39m'\u001b[39m\n\u001b[1;32m    409\u001b[0m )\n\u001b[0;32m--> 410\u001b[0m _write_estimator_html(\n\u001b[1;32m    411\u001b[0m     out,\n\u001b[1;32m    412\u001b[0m     estimator,\n\u001b[1;32m    413\u001b[0m     estimator\u001b[39m.\u001b[39;49m\u001b[39m__class__\u001b[39;49m\u001b[39m.\u001b[39;49m\u001b[39m__name__\u001b[39;49m,\n\u001b[1;32m    414\u001b[0m     estimator_str,\n\u001b[1;32m    415\u001b[0m     first_call\u001b[39m=\u001b[39;49m\u001b[39mTrue\u001b[39;49;00m,\n\u001b[1;32m    416\u001b[0m )\n\u001b[1;32m    417\u001b[0m out\u001b[39m.\u001b[39mwrite(\u001b[39m\"\u001b[39m\u001b[39m</div></div>\u001b[39m\u001b[39m\"\u001b[39m)\n\u001b[1;32m    419\u001b[0m html_output \u001b[39m=\u001b[39m out\u001b[39m.\u001b[39mgetvalue()\n",
      "File \u001b[0;32m/Library/Frameworks/Python.framework/Versions/3.10/lib/python3.10/site-packages/sklearn/utils/_estimator_html_repr.py:144\u001b[0m, in \u001b[0;36m_write_estimator_html\u001b[0;34m(out, estimator, estimator_label, estimator_label_details, first_call)\u001b[0m\n\u001b[1;32m    142\u001b[0m \u001b[39m\"\"\"Write estimator to html in serial, parallel, or by itself (single).\"\"\"\u001b[39;00m\n\u001b[1;32m    143\u001b[0m \u001b[39mif\u001b[39;00m first_call:\n\u001b[0;32m--> 144\u001b[0m     est_block \u001b[39m=\u001b[39m _get_visual_block(estimator)\n\u001b[1;32m    145\u001b[0m \u001b[39melse\u001b[39;00m:\n\u001b[1;32m    146\u001b[0m     \u001b[39mwith\u001b[39;00m config_context(print_changed_only\u001b[39m=\u001b[39m\u001b[39mTrue\u001b[39;00m):\n",
      "File \u001b[0;32m/Library/Frameworks/Python.framework/Versions/3.10/lib/python3.10/site-packages/sklearn/utils/_estimator_html_repr.py:107\u001b[0m, in \u001b[0;36m_get_visual_block\u001b[0;34m(estimator)\u001b[0m\n\u001b[1;32m    105\u001b[0m \u001b[39m\"\"\"Generate information about how to display an estimator.\"\"\"\u001b[39;00m\n\u001b[1;32m    106\u001b[0m \u001b[39mwith\u001b[39;00m suppress(\u001b[39mAttributeError\u001b[39;00m):\n\u001b[0;32m--> 107\u001b[0m     \u001b[39mreturn\u001b[39;00m estimator\u001b[39m.\u001b[39;49m_sk_visual_block_()\n\u001b[1;32m    109\u001b[0m \u001b[39mif\u001b[39;00m \u001b[39misinstance\u001b[39m(estimator, \u001b[39mstr\u001b[39m):\n\u001b[1;32m    110\u001b[0m     \u001b[39mreturn\u001b[39;00m _VisualBlock(\n\u001b[1;32m    111\u001b[0m         \u001b[39m\"\u001b[39m\u001b[39msingle\u001b[39m\u001b[39m\"\u001b[39m, estimator, names\u001b[39m=\u001b[39mestimator, name_details\u001b[39m=\u001b[39mestimator\n\u001b[1;32m    112\u001b[0m     )\n",
      "File \u001b[0;32m/Library/Frameworks/Python.framework/Versions/3.10/lib/python3.10/site-packages/sklearn/compose/_column_transformer.py:808\u001b[0m, in \u001b[0;36mColumnTransformer._sk_visual_block_\u001b[0;34m(self)\u001b[0m\n\u001b[1;32m    805\u001b[0m \u001b[39melse\u001b[39;00m:\n\u001b[1;32m    806\u001b[0m     transformers \u001b[39m=\u001b[39m chain(\u001b[39mself\u001b[39m\u001b[39m.\u001b[39mtransformers, [(\u001b[39m\"\u001b[39m\u001b[39mremainder\u001b[39m\u001b[39m\"\u001b[39m, \u001b[39mself\u001b[39m\u001b[39m.\u001b[39mremainder, \u001b[39m\"\u001b[39m\u001b[39m\"\u001b[39m)])\n\u001b[0;32m--> 808\u001b[0m names, transformers, name_details \u001b[39m=\u001b[39m \u001b[39mzip\u001b[39m(\u001b[39m*\u001b[39mtransformers)\n\u001b[1;32m    809\u001b[0m \u001b[39mreturn\u001b[39;00m _VisualBlock(\n\u001b[1;32m    810\u001b[0m     \u001b[39m\"\u001b[39m\u001b[39mparallel\u001b[39m\u001b[39m\"\u001b[39m, transformers, names\u001b[39m=\u001b[39mnames, name_details\u001b[39m=\u001b[39mname_details\n\u001b[1;32m    811\u001b[0m )\n",
      "\u001b[0;31mValueError\u001b[0m: not enough values to unpack (expected 3, got 2)"
     ]
    },
    {
     "ename": "ValueError",
     "evalue": "not enough values to unpack (expected 3, got 2)",
     "output_type": "error",
     "traceback": [
      "\u001b[0;31m---------------------------------------------------------------------------\u001b[0m",
      "\u001b[0;31mValueError\u001b[0m                                Traceback (most recent call last)",
      "File \u001b[0;32m/Library/Frameworks/Python.framework/Versions/3.10/lib/python3.10/site-packages/IPython/core/formatters.py:343\u001b[0m, in \u001b[0;36mBaseFormatter.__call__\u001b[0;34m(self, obj)\u001b[0m\n\u001b[1;32m    341\u001b[0m     method \u001b[39m=\u001b[39m get_real_method(obj, \u001b[39mself\u001b[39m\u001b[39m.\u001b[39mprint_method)\n\u001b[1;32m    342\u001b[0m     \u001b[39mif\u001b[39;00m method \u001b[39mis\u001b[39;00m \u001b[39mnot\u001b[39;00m \u001b[39mNone\u001b[39;00m:\n\u001b[0;32m--> 343\u001b[0m         \u001b[39mreturn\u001b[39;00m method()\n\u001b[1;32m    344\u001b[0m     \u001b[39mreturn\u001b[39;00m \u001b[39mNone\u001b[39;00m\n\u001b[1;32m    345\u001b[0m \u001b[39melse\u001b[39;00m:\n",
      "File \u001b[0;32m/Library/Frameworks/Python.framework/Versions/3.10/lib/python3.10/site-packages/sklearn/base.py:625\u001b[0m, in \u001b[0;36mBaseEstimator._repr_html_inner\u001b[0;34m(self)\u001b[0m\n\u001b[1;32m    620\u001b[0m \u001b[39mdef\u001b[39;00m \u001b[39m_repr_html_inner\u001b[39m(\u001b[39mself\u001b[39m):\n\u001b[1;32m    621\u001b[0m     \u001b[39m\"\"\"This function is returned by the @property `_repr_html_` to make\u001b[39;00m\n\u001b[1;32m    622\u001b[0m \u001b[39m    `hasattr(estimator, \"_repr_html_\") return `True` or `False` depending\u001b[39;00m\n\u001b[1;32m    623\u001b[0m \u001b[39m    on `get_config()[\"display\"]`.\u001b[39;00m\n\u001b[1;32m    624\u001b[0m \u001b[39m    \"\"\"\u001b[39;00m\n\u001b[0;32m--> 625\u001b[0m     \u001b[39mreturn\u001b[39;00m estimator_html_repr(\u001b[39mself\u001b[39;49m)\n",
      "File \u001b[0;32m/Library/Frameworks/Python.framework/Versions/3.10/lib/python3.10/site-packages/sklearn/utils/_estimator_html_repr.py:410\u001b[0m, in \u001b[0;36mestimator_html_repr\u001b[0;34m(estimator)\u001b[0m\n\u001b[1;32m    396\u001b[0m fallback_msg \u001b[39m=\u001b[39m (\n\u001b[1;32m    397\u001b[0m     \u001b[39m\"\u001b[39m\u001b[39mIn a Jupyter environment, please rerun this cell to show the HTML\u001b[39m\u001b[39m\"\u001b[39m\n\u001b[1;32m    398\u001b[0m     \u001b[39m\"\u001b[39m\u001b[39m representation or trust the notebook. <br />On GitHub, the\u001b[39m\u001b[39m\"\u001b[39m\n\u001b[1;32m    399\u001b[0m     \u001b[39m\"\u001b[39m\u001b[39m HTML representation is unable to render, please try loading this page\u001b[39m\u001b[39m\"\u001b[39m\n\u001b[1;32m    400\u001b[0m     \u001b[39m\"\u001b[39m\u001b[39m with nbviewer.org.\u001b[39m\u001b[39m\"\u001b[39m\n\u001b[1;32m    401\u001b[0m )\n\u001b[1;32m    402\u001b[0m out\u001b[39m.\u001b[39mwrite(\n\u001b[1;32m    403\u001b[0m     \u001b[39mf\u001b[39m\u001b[39m\"\u001b[39m\u001b[39m<style>\u001b[39m\u001b[39m{\u001b[39;00mstyle_with_id\u001b[39m}\u001b[39;00m\u001b[39m</style>\u001b[39m\u001b[39m\"\u001b[39m\n\u001b[1;32m    404\u001b[0m     \u001b[39mf\u001b[39m\u001b[39m'\u001b[39m\u001b[39m<div id=\u001b[39m\u001b[39m\"\u001b[39m\u001b[39m{\u001b[39;00mcontainer_id\u001b[39m}\u001b[39;00m\u001b[39m\"\u001b[39m\u001b[39m class=\u001b[39m\u001b[39m\"\u001b[39m\u001b[39msk-top-container\u001b[39m\u001b[39m\"\u001b[39m\u001b[39m>\u001b[39m\u001b[39m'\u001b[39m\n\u001b[0;32m   (...)\u001b[0m\n\u001b[1;32m    408\u001b[0m     \u001b[39m'\u001b[39m\u001b[39m<div class=\u001b[39m\u001b[39m\"\u001b[39m\u001b[39msk-container\u001b[39m\u001b[39m\"\u001b[39m\u001b[39m hidden>\u001b[39m\u001b[39m'\u001b[39m\n\u001b[1;32m    409\u001b[0m )\n\u001b[0;32m--> 410\u001b[0m _write_estimator_html(\n\u001b[1;32m    411\u001b[0m     out,\n\u001b[1;32m    412\u001b[0m     estimator,\n\u001b[1;32m    413\u001b[0m     estimator\u001b[39m.\u001b[39;49m\u001b[39m__class__\u001b[39;49m\u001b[39m.\u001b[39;49m\u001b[39m__name__\u001b[39;49m,\n\u001b[1;32m    414\u001b[0m     estimator_str,\n\u001b[1;32m    415\u001b[0m     first_call\u001b[39m=\u001b[39;49m\u001b[39mTrue\u001b[39;49;00m,\n\u001b[1;32m    416\u001b[0m )\n\u001b[1;32m    417\u001b[0m out\u001b[39m.\u001b[39mwrite(\u001b[39m\"\u001b[39m\u001b[39m</div></div>\u001b[39m\u001b[39m\"\u001b[39m)\n\u001b[1;32m    419\u001b[0m html_output \u001b[39m=\u001b[39m out\u001b[39m.\u001b[39mgetvalue()\n",
      "File \u001b[0;32m/Library/Frameworks/Python.framework/Versions/3.10/lib/python3.10/site-packages/sklearn/utils/_estimator_html_repr.py:144\u001b[0m, in \u001b[0;36m_write_estimator_html\u001b[0;34m(out, estimator, estimator_label, estimator_label_details, first_call)\u001b[0m\n\u001b[1;32m    142\u001b[0m \u001b[39m\"\"\"Write estimator to html in serial, parallel, or by itself (single).\"\"\"\u001b[39;00m\n\u001b[1;32m    143\u001b[0m \u001b[39mif\u001b[39;00m first_call:\n\u001b[0;32m--> 144\u001b[0m     est_block \u001b[39m=\u001b[39m _get_visual_block(estimator)\n\u001b[1;32m    145\u001b[0m \u001b[39melse\u001b[39;00m:\n\u001b[1;32m    146\u001b[0m     \u001b[39mwith\u001b[39;00m config_context(print_changed_only\u001b[39m=\u001b[39m\u001b[39mTrue\u001b[39;00m):\n",
      "File \u001b[0;32m/Library/Frameworks/Python.framework/Versions/3.10/lib/python3.10/site-packages/sklearn/utils/_estimator_html_repr.py:107\u001b[0m, in \u001b[0;36m_get_visual_block\u001b[0;34m(estimator)\u001b[0m\n\u001b[1;32m    105\u001b[0m \u001b[39m\"\"\"Generate information about how to display an estimator.\"\"\"\u001b[39;00m\n\u001b[1;32m    106\u001b[0m \u001b[39mwith\u001b[39;00m suppress(\u001b[39mAttributeError\u001b[39;00m):\n\u001b[0;32m--> 107\u001b[0m     \u001b[39mreturn\u001b[39;00m estimator\u001b[39m.\u001b[39;49m_sk_visual_block_()\n\u001b[1;32m    109\u001b[0m \u001b[39mif\u001b[39;00m \u001b[39misinstance\u001b[39m(estimator, \u001b[39mstr\u001b[39m):\n\u001b[1;32m    110\u001b[0m     \u001b[39mreturn\u001b[39;00m _VisualBlock(\n\u001b[1;32m    111\u001b[0m         \u001b[39m\"\u001b[39m\u001b[39msingle\u001b[39m\u001b[39m\"\u001b[39m, estimator, names\u001b[39m=\u001b[39mestimator, name_details\u001b[39m=\u001b[39mestimator\n\u001b[1;32m    112\u001b[0m     )\n",
      "File \u001b[0;32m/Library/Frameworks/Python.framework/Versions/3.10/lib/python3.10/site-packages/sklearn/compose/_column_transformer.py:808\u001b[0m, in \u001b[0;36mColumnTransformer._sk_visual_block_\u001b[0;34m(self)\u001b[0m\n\u001b[1;32m    805\u001b[0m \u001b[39melse\u001b[39;00m:\n\u001b[1;32m    806\u001b[0m     transformers \u001b[39m=\u001b[39m chain(\u001b[39mself\u001b[39m\u001b[39m.\u001b[39mtransformers, [(\u001b[39m\"\u001b[39m\u001b[39mremainder\u001b[39m\u001b[39m\"\u001b[39m, \u001b[39mself\u001b[39m\u001b[39m.\u001b[39mremainder, \u001b[39m\"\u001b[39m\u001b[39m\"\u001b[39m)])\n\u001b[0;32m--> 808\u001b[0m names, transformers, name_details \u001b[39m=\u001b[39m \u001b[39mzip\u001b[39m(\u001b[39m*\u001b[39mtransformers)\n\u001b[1;32m    809\u001b[0m \u001b[39mreturn\u001b[39;00m _VisualBlock(\n\u001b[1;32m    810\u001b[0m     \u001b[39m\"\u001b[39m\u001b[39mparallel\u001b[39m\u001b[39m\"\u001b[39m, transformers, names\u001b[39m=\u001b[39mnames, name_details\u001b[39m=\u001b[39mname_details\n\u001b[1;32m    811\u001b[0m )\n",
      "\u001b[0;31mValueError\u001b[0m: not enough values to unpack (expected 3, got 2)"
     ]
    },
    {
     "data": {
      "text/plain": [
       "ColumnTransformer(transformers=[('dis',\n",
       "                                 Discretizer(bins=[0, 1, 2, 4, inf],\n",
       "                                             column=['FamilySize'],\n",
       "                                             labels=['ALONE', 'SMALL', 'MED',\n",
       "                                                     'LARGE'])),\n",
       "                                ('num',\n",
       "                                 Pipeline(steps=[('imputer',\n",
       "                                                  SimpleImputer(strategy='median')),\n",
       "                                                 ('scaler', StandardScaler())]),\n",
       "                                 ['Age', 'Fare']),\n",
       "                                ('cat', OneHotEncoder(handle_unknown='ignore'),\n",
       "                                 ['Pclass', 'Sex', 'SibSp', 'Parch',\n",
       "                                  'Embarked'])])"
      ]
     },
     "execution_count": 44,
     "metadata": {},
     "output_type": "execute_result"
    }
   ],
   "source": [
    "preprocessor = ColumnTransformer(\n",
    "    transformers=[\n",
    "        (\"dis\", Discretizer(bins = BINS, labels = LABLES)),\n",
    "        (\"num\", numeric_transformer, numeric_features),\n",
    "        (\"cat\", OneHotEncoder(handle_unknown=\"ignore\"), categorical_features),\n",
    "    ]\n",
    ")\n",
    "preprocessor"
   ]
  },
  {
   "cell_type": "code",
   "execution_count": null,
   "metadata": {},
   "outputs": [],
   "source": []
  },
  {
   "cell_type": "code",
   "execution_count": 9,
   "metadata": {},
   "outputs": [
    {
     "data": {
      "text/html": [
       "<style>#sk-container-id-3 {color: black;background-color: white;}#sk-container-id-3 pre{padding: 0;}#sk-container-id-3 div.sk-toggleable {background-color: white;}#sk-container-id-3 label.sk-toggleable__label {cursor: pointer;display: block;width: 100%;margin-bottom: 0;padding: 0.3em;box-sizing: border-box;text-align: center;}#sk-container-id-3 label.sk-toggleable__label-arrow:before {content: \"▸\";float: left;margin-right: 0.25em;color: #696969;}#sk-container-id-3 label.sk-toggleable__label-arrow:hover:before {color: black;}#sk-container-id-3 div.sk-estimator:hover label.sk-toggleable__label-arrow:before {color: black;}#sk-container-id-3 div.sk-toggleable__content {max-height: 0;max-width: 0;overflow: hidden;text-align: left;background-color: #f0f8ff;}#sk-container-id-3 div.sk-toggleable__content pre {margin: 0.2em;color: black;border-radius: 0.25em;background-color: #f0f8ff;}#sk-container-id-3 input.sk-toggleable__control:checked~div.sk-toggleable__content {max-height: 200px;max-width: 100%;overflow: auto;}#sk-container-id-3 input.sk-toggleable__control:checked~label.sk-toggleable__label-arrow:before {content: \"▾\";}#sk-container-id-3 div.sk-estimator input.sk-toggleable__control:checked~label.sk-toggleable__label {background-color: #d4ebff;}#sk-container-id-3 div.sk-label input.sk-toggleable__control:checked~label.sk-toggleable__label {background-color: #d4ebff;}#sk-container-id-3 input.sk-hidden--visually {border: 0;clip: rect(1px 1px 1px 1px);clip: rect(1px, 1px, 1px, 1px);height: 1px;margin: -1px;overflow: hidden;padding: 0;position: absolute;width: 1px;}#sk-container-id-3 div.sk-estimator {font-family: monospace;background-color: #f0f8ff;border: 1px dotted black;border-radius: 0.25em;box-sizing: border-box;margin-bottom: 0.5em;}#sk-container-id-3 div.sk-estimator:hover {background-color: #d4ebff;}#sk-container-id-3 div.sk-parallel-item::after {content: \"\";width: 100%;border-bottom: 1px solid gray;flex-grow: 1;}#sk-container-id-3 div.sk-label:hover label.sk-toggleable__label {background-color: #d4ebff;}#sk-container-id-3 div.sk-serial::before {content: \"\";position: absolute;border-left: 1px solid gray;box-sizing: border-box;top: 0;bottom: 0;left: 50%;z-index: 0;}#sk-container-id-3 div.sk-serial {display: flex;flex-direction: column;align-items: center;background-color: white;padding-right: 0.2em;padding-left: 0.2em;position: relative;}#sk-container-id-3 div.sk-item {position: relative;z-index: 1;}#sk-container-id-3 div.sk-parallel {display: flex;align-items: stretch;justify-content: center;background-color: white;position: relative;}#sk-container-id-3 div.sk-item::before, #sk-container-id-3 div.sk-parallel-item::before {content: \"\";position: absolute;border-left: 1px solid gray;box-sizing: border-box;top: 0;bottom: 0;left: 50%;z-index: -1;}#sk-container-id-3 div.sk-parallel-item {display: flex;flex-direction: column;z-index: 1;position: relative;background-color: white;}#sk-container-id-3 div.sk-parallel-item:first-child::after {align-self: flex-end;width: 50%;}#sk-container-id-3 div.sk-parallel-item:last-child::after {align-self: flex-start;width: 50%;}#sk-container-id-3 div.sk-parallel-item:only-child::after {width: 0;}#sk-container-id-3 div.sk-dashed-wrapped {border: 1px dashed gray;margin: 0 0.4em 0.5em 0.4em;box-sizing: border-box;padding-bottom: 0.4em;background-color: white;}#sk-container-id-3 div.sk-label label {font-family: monospace;font-weight: bold;display: inline-block;line-height: 1.2em;}#sk-container-id-3 div.sk-label-container {text-align: center;}#sk-container-id-3 div.sk-container {/* jupyter's `normalize.less` sets `[hidden] { display: none; }` but bootstrap.min.css set `[hidden] { display: none !important; }` so we also need the `!important` here to be able to override the default hidden behavior on the sphinx rendered scikit-learn.org. See: https://github.com/scikit-learn/scikit-learn/issues/21755 */display: inline-block !important;position: relative;}#sk-container-id-3 div.sk-text-repr-fallback {display: none;}</style><div id=\"sk-container-id-3\" class=\"sk-top-container\"><div class=\"sk-text-repr-fallback\"><pre>Pipeline(steps=[(&#x27;preprocessor&#x27;,\n",
       "                 ColumnTransformer(transformers=[(&#x27;num&#x27;,\n",
       "                                                  Pipeline(steps=[(&#x27;imputer&#x27;,\n",
       "                                                                   SimpleImputer(strategy=&#x27;median&#x27;)),\n",
       "                                                                  (&#x27;scaler&#x27;,\n",
       "                                                                   StandardScaler())]),\n",
       "                                                  [&#x27;Age&#x27;, &#x27;Fare&#x27;]),\n",
       "                                                 (&#x27;cat&#x27;,\n",
       "                                                  OneHotEncoder(handle_unknown=&#x27;ignore&#x27;),\n",
       "                                                  [&#x27;Pclass&#x27;, &#x27;Sex&#x27;, &#x27;SibSp&#x27;,\n",
       "                                                   &#x27;Parch&#x27;, &#x27;Embarked&#x27;])])),\n",
       "                (&#x27;classifier&#x27;, RandomForestClassifier())])</pre><b>In a Jupyter environment, please rerun this cell to show the HTML representation or trust the notebook. <br />On GitHub, the HTML representation is unable to render, please try loading this page with nbviewer.org.</b></div><div class=\"sk-container\" hidden><div class=\"sk-item sk-dashed-wrapped\"><div class=\"sk-label-container\"><div class=\"sk-label sk-toggleable\"><input class=\"sk-toggleable__control sk-hidden--visually\" id=\"sk-estimator-id-10\" type=\"checkbox\" ><label for=\"sk-estimator-id-10\" class=\"sk-toggleable__label sk-toggleable__label-arrow\">Pipeline</label><div class=\"sk-toggleable__content\"><pre>Pipeline(steps=[(&#x27;preprocessor&#x27;,\n",
       "                 ColumnTransformer(transformers=[(&#x27;num&#x27;,\n",
       "                                                  Pipeline(steps=[(&#x27;imputer&#x27;,\n",
       "                                                                   SimpleImputer(strategy=&#x27;median&#x27;)),\n",
       "                                                                  (&#x27;scaler&#x27;,\n",
       "                                                                   StandardScaler())]),\n",
       "                                                  [&#x27;Age&#x27;, &#x27;Fare&#x27;]),\n",
       "                                                 (&#x27;cat&#x27;,\n",
       "                                                  OneHotEncoder(handle_unknown=&#x27;ignore&#x27;),\n",
       "                                                  [&#x27;Pclass&#x27;, &#x27;Sex&#x27;, &#x27;SibSp&#x27;,\n",
       "                                                   &#x27;Parch&#x27;, &#x27;Embarked&#x27;])])),\n",
       "                (&#x27;classifier&#x27;, RandomForestClassifier())])</pre></div></div></div><div class=\"sk-serial\"><div class=\"sk-item sk-dashed-wrapped\"><div class=\"sk-label-container\"><div class=\"sk-label sk-toggleable\"><input class=\"sk-toggleable__control sk-hidden--visually\" id=\"sk-estimator-id-11\" type=\"checkbox\" ><label for=\"sk-estimator-id-11\" class=\"sk-toggleable__label sk-toggleable__label-arrow\">preprocessor: ColumnTransformer</label><div class=\"sk-toggleable__content\"><pre>ColumnTransformer(transformers=[(&#x27;num&#x27;,\n",
       "                                 Pipeline(steps=[(&#x27;imputer&#x27;,\n",
       "                                                  SimpleImputer(strategy=&#x27;median&#x27;)),\n",
       "                                                 (&#x27;scaler&#x27;, StandardScaler())]),\n",
       "                                 [&#x27;Age&#x27;, &#x27;Fare&#x27;]),\n",
       "                                (&#x27;cat&#x27;, OneHotEncoder(handle_unknown=&#x27;ignore&#x27;),\n",
       "                                 [&#x27;Pclass&#x27;, &#x27;Sex&#x27;, &#x27;SibSp&#x27;, &#x27;Parch&#x27;,\n",
       "                                  &#x27;Embarked&#x27;])])</pre></div></div></div><div class=\"sk-parallel\"><div class=\"sk-parallel-item\"><div class=\"sk-item\"><div class=\"sk-label-container\"><div class=\"sk-label sk-toggleable\"><input class=\"sk-toggleable__control sk-hidden--visually\" id=\"sk-estimator-id-12\" type=\"checkbox\" ><label for=\"sk-estimator-id-12\" class=\"sk-toggleable__label sk-toggleable__label-arrow\">num</label><div class=\"sk-toggleable__content\"><pre>[&#x27;Age&#x27;, &#x27;Fare&#x27;]</pre></div></div></div><div class=\"sk-serial\"><div class=\"sk-item\"><div class=\"sk-serial\"><div class=\"sk-item\"><div class=\"sk-estimator sk-toggleable\"><input class=\"sk-toggleable__control sk-hidden--visually\" id=\"sk-estimator-id-13\" type=\"checkbox\" ><label for=\"sk-estimator-id-13\" class=\"sk-toggleable__label sk-toggleable__label-arrow\">SimpleImputer</label><div class=\"sk-toggleable__content\"><pre>SimpleImputer(strategy=&#x27;median&#x27;)</pre></div></div></div><div class=\"sk-item\"><div class=\"sk-estimator sk-toggleable\"><input class=\"sk-toggleable__control sk-hidden--visually\" id=\"sk-estimator-id-14\" type=\"checkbox\" ><label for=\"sk-estimator-id-14\" class=\"sk-toggleable__label sk-toggleable__label-arrow\">StandardScaler</label><div class=\"sk-toggleable__content\"><pre>StandardScaler()</pre></div></div></div></div></div></div></div></div><div class=\"sk-parallel-item\"><div class=\"sk-item\"><div class=\"sk-label-container\"><div class=\"sk-label sk-toggleable\"><input class=\"sk-toggleable__control sk-hidden--visually\" id=\"sk-estimator-id-15\" type=\"checkbox\" ><label for=\"sk-estimator-id-15\" class=\"sk-toggleable__label sk-toggleable__label-arrow\">cat</label><div class=\"sk-toggleable__content\"><pre>[&#x27;Pclass&#x27;, &#x27;Sex&#x27;, &#x27;SibSp&#x27;, &#x27;Parch&#x27;, &#x27;Embarked&#x27;]</pre></div></div></div><div class=\"sk-serial\"><div class=\"sk-item\"><div class=\"sk-estimator sk-toggleable\"><input class=\"sk-toggleable__control sk-hidden--visually\" id=\"sk-estimator-id-16\" type=\"checkbox\" ><label for=\"sk-estimator-id-16\" class=\"sk-toggleable__label sk-toggleable__label-arrow\">OneHotEncoder</label><div class=\"sk-toggleable__content\"><pre>OneHotEncoder(handle_unknown=&#x27;ignore&#x27;)</pre></div></div></div></div></div></div></div></div><div class=\"sk-item\"><div class=\"sk-estimator sk-toggleable\"><input class=\"sk-toggleable__control sk-hidden--visually\" id=\"sk-estimator-id-17\" type=\"checkbox\" ><label for=\"sk-estimator-id-17\" class=\"sk-toggleable__label sk-toggleable__label-arrow\">RandomForestClassifier</label><div class=\"sk-toggleable__content\"><pre>RandomForestClassifier()</pre></div></div></div></div></div></div></div>"
      ],
      "text/plain": [
       "Pipeline(steps=[('preprocessor',\n",
       "                 ColumnTransformer(transformers=[('num',\n",
       "                                                  Pipeline(steps=[('imputer',\n",
       "                                                                   SimpleImputer(strategy='median')),\n",
       "                                                                  ('scaler',\n",
       "                                                                   StandardScaler())]),\n",
       "                                                  ['Age', 'Fare']),\n",
       "                                                 ('cat',\n",
       "                                                  OneHotEncoder(handle_unknown='ignore'),\n",
       "                                                  ['Pclass', 'Sex', 'SibSp',\n",
       "                                                   'Parch', 'Embarked'])])),\n",
       "                ('classifier', RandomForestClassifier())])"
      ]
     },
     "execution_count": 9,
     "metadata": {},
     "output_type": "execute_result"
    }
   ],
   "source": [
    "clf = Pipeline(\n",
    "    steps=[(\"preprocessor\", preprocessor), (\"classifier\", RandomForestClassifier())]\n",
    ")\n",
    "clf"
   ]
  },
  {
   "cell_type": "code",
   "execution_count": 12,
   "metadata": {},
   "outputs": [
    {
     "ename": "NameError",
     "evalue": "name 'df_total' is not defined",
     "output_type": "error",
     "traceback": [
      "\u001b[0;31m---------------------------------------------------------------------------\u001b[0m",
      "\u001b[0;31mNameError\u001b[0m                                 Traceback (most recent call last)",
      "\u001b[1;32m/Users/bennvanholz/vs_code/data_science_play_books/piplines_v1.ipynb Zelle 14\u001b[0m in \u001b[0;36m<cell line: 2>\u001b[0;34m()\u001b[0m\n\u001b[1;32m      <a href='vscode-notebook-cell:/Users/bennvanholz/vs_code/data_science_play_books/piplines_v1.ipynb#ch0000013?line=0'>1</a>\u001b[0m \u001b[39m# Group passengers by ticket number\u001b[39;00m\n\u001b[0;32m----> <a href='vscode-notebook-cell:/Users/bennvanholz/vs_code/data_science_play_books/piplines_v1.ipynb#ch0000013?line=1'>2</a>\u001b[0m same_ticket \u001b[39m=\u001b[39m df_total\u001b[39m.\u001b[39mgroupby(\u001b[39m\"\u001b[39m\u001b[39mTicket\u001b[39m\u001b[39m\"\u001b[39m)[\u001b[39m\"\u001b[39m\u001b[39mPassengerId\u001b[39m\u001b[39m\"\u001b[39m]\u001b[39m.\u001b[39mnunique()\u001b[39m.\u001b[39mreset_index()\n\u001b[1;32m      <a href='vscode-notebook-cell:/Users/bennvanholz/vs_code/data_science_play_books/piplines_v1.ipynb#ch0000013?line=2'>3</a>\u001b[0m same_ticket\u001b[39m.\u001b[39mrename(columns\u001b[39m=\u001b[39m{\u001b[39m\"\u001b[39m\u001b[39mPassengerId\u001b[39m\u001b[39m\"\u001b[39m: \u001b[39m\"\u001b[39m\u001b[39mpassenger count\u001b[39m\u001b[39m\"\u001b[39m}, inplace\u001b[39m=\u001b[39m\u001b[39mTrue\u001b[39;00m)\n\u001b[1;32m      <a href='vscode-notebook-cell:/Users/bennvanholz/vs_code/data_science_play_books/piplines_v1.ipynb#ch0000013?line=4'>5</a>\u001b[0m \u001b[39m# Create a new variable 'travel size'\u001b[39;00m\n",
      "\u001b[0;31mNameError\u001b[0m: name 'df_total' is not defined"
     ]
    }
   ],
   "source": [
    "# Group passengers by ticket number\n",
    "same_ticket = df_total.groupby(\"Ticket\")[\"PassengerId\"].nunique().reset_index()\n",
    "same_ticket.rename(columns={\"PassengerId\": \"passenger count\"}, inplace=True)\n",
    "\n",
    "# Create a new variable 'travel size'\n",
    "travel_group_2ppl = same_ticket[same_ticket[\"passenger count\"] == 2]\n",
    "travel_group_3ppl = same_ticket[same_ticket[\"passenger count\"] == 3]\n",
    "travel_group_4ppl = same_ticket[same_ticket[\"passenger count\"] == 4]\n",
    "travel_group_5ppl = same_ticket[same_ticket[\"passenger count\"] >= 5]\n",
    "\n",
    "df_total[\"travel size\"] = \"a. alone\"\n",
    "df_total.loc[\n",
    "    df_total[\"Ticket\"].isin(travel_group_2ppl[\"Ticket\"]), \"travel size\"\n",
    "] = \"b. 2 ppl\"\n",
    "df_total.loc[\n",
    "    df_total[\"Ticket\"].isin(travel_group_3ppl[\"Ticket\"]), \"travel size\"\n",
    "] = \"c. 3 ppl\"\n",
    "df_total.loc[\n",
    "    df_total[\"Ticket\"].isin(travel_group_4ppl[\"Ticket\"]), \"travel size\"\n",
    "] = \"d. 4 ppl\"\n",
    "df_total.loc[\n",
    "    df_total[\"Ticket\"].isin(travel_group_5ppl[\"Ticket\"]), \"travel size\"\n",
    "] = \"e. 5+ ppl\"\n",
    "\n",
    "# Survival rate by travel size\n",
    "df_total.groupby([\"travel size\"])[\"Survived\"].describe()"
   ]
  },
  {
   "cell_type": "markdown",
   "metadata": {},
   "source": [
    "Acknowledgement:\n",
    "- Gunes Evitan's Kaggle Nootebook on [Titanic - Advanced Feature Engineering Tutorial](https://www.kaggle.com/code/gunesevitan/titanic-advanced-feature-engineering-tutorial/notebook)\n",
    "- Petro Morales's sklearn Tutorial on [Column Transformer with Mixed Types](https://scikit-learn.org/stable/auto_examples/compose/plot_column_transformer_mixed_types.html?highlight=standardscaler)"
   ]
  }
 ],
 "metadata": {
  "kernelspec": {
   "display_name": "Python 3.10.5 64-bit",
   "language": "python",
   "name": "python3"
  },
  "language_info": {
   "codemirror_mode": {
    "name": "ipython",
    "version": 3
   },
   "file_extension": ".py",
   "mimetype": "text/x-python",
   "name": "python",
   "nbconvert_exporter": "python",
   "pygments_lexer": "ipython3",
   "version": "3.10.5"
  },
  "orig_nbformat": 4,
  "vscode": {
   "interpreter": {
    "hash": "aee8b7b246df8f9039afb4144a1f6fd8d2ca17a180786b69acc140d282b71a49"
   }
  }
 },
 "nbformat": 4,
 "nbformat_minor": 2
}

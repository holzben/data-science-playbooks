{
 "cells": [
  {
   "cell_type": "markdown",
   "metadata": {},
   "source": [
    "# Getting started with Pipeline's"
   ]
  },
  {
   "cell_type": "code",
   "execution_count": 1,
   "metadata": {},
   "outputs": [],
   "source": [
    "import pandas as pd\n",
    "import numpy as np\n",
    "from sklearn.model_selection import train_test_split\n",
    "from sklearn.pipeline import Pipeline\n",
    "from sklearn.preprocessing import StandardScaler, OneHotEncoder, FunctionTransformer\n",
    "from sklearn.impute import SimpleImputer\n",
    "from sklearn.compose import ColumnTransformer\n",
    "from sklearn.ensemble import RandomForestClassifier\n",
    "from sklearn.base import BaseEstimator, TransformerMixin\n",
    "from typing import List, Any"
   ]
  },
  {
   "cell_type": "code",
   "execution_count": 2,
   "metadata": {},
   "outputs": [],
   "source": [
    "URL_TO_DATA = (\n",
    "    \"https://raw.githubusercontent.com/datasciencedojo/datasets/master/titanic.csv\"\n",
    ")\n",
    "TEST_SIZE = 0.2\n",
    "VALID_SIZE = 0.25\n",
    "RANDOM_STATE = 42\n",
    "NUMERIC_TRANSFORMER_REPLACEMENT = \"median\""
   ]
  },
  {
   "cell_type": "code",
   "execution_count": 3,
   "metadata": {},
   "outputs": [],
   "source": [
    "# in case of CERTIFICATE_VERIFY_FAILED run Install Certificates.command\n",
    "# see also https://stackoverflow.com/questions/50236117/scraping-ssl-certificate-verify-failed-error-for-http-en-wikipedia-org\n",
    "df = pd.read_csv(filepath_or_buffer=URL_TO_DATA, index_col=0)\n",
    "\n",
    "\n",
    "df[\"FamilySize\"] = df[\"SibSp\"] + df[\"Parch\"] + 1\n",
    "df[\"Title\"] = \"NA\"\n",
    "df[\"Title\"] = df.Name.str.extract(\"([A-Za-z]+)\\.\")"
   ]
  },
  {
   "cell_type": "code",
   "execution_count": 4,
   "metadata": {},
   "outputs": [],
   "source": [
    "y = df[\"Survived\"]\n",
    "X = df.drop(columns=[\"Survived\"])\n",
    "\n",
    "X_train, X_test, y_train, y_test = train_test_split(\n",
    "    X, y, test_size=TEST_SIZE, random_state=RANDOM_STATE\n",
    ")\n",
    "X_train, X_val, y_train, y_val = train_test_split(\n",
    "    X_train, y_train, test_size=VALID_SIZE, random_state=RANDOM_STATE\n",
    ")  # 0.25 x 0.8 = 0.2"
   ]
  },
  {
   "cell_type": "code",
   "execution_count": 5,
   "metadata": {},
   "outputs": [
    {
     "data": {
      "text/html": [
       "<div>\n",
       "<style scoped>\n",
       "    .dataframe tbody tr th:only-of-type {\n",
       "        vertical-align: middle;\n",
       "    }\n",
       "\n",
       "    .dataframe tbody tr th {\n",
       "        vertical-align: top;\n",
       "    }\n",
       "\n",
       "    .dataframe thead th {\n",
       "        text-align: right;\n",
       "    }\n",
       "</style>\n",
       "<table border=\"1\" class=\"dataframe\">\n",
       "  <thead>\n",
       "    <tr style=\"text-align: right;\">\n",
       "      <th></th>\n",
       "      <th>Pclass</th>\n",
       "      <th>Name</th>\n",
       "      <th>Sex</th>\n",
       "      <th>Age</th>\n",
       "      <th>SibSp</th>\n",
       "      <th>Parch</th>\n",
       "      <th>Ticket</th>\n",
       "      <th>Fare</th>\n",
       "      <th>Cabin</th>\n",
       "      <th>Embarked</th>\n",
       "      <th>FamilySize</th>\n",
       "      <th>Title</th>\n",
       "    </tr>\n",
       "    <tr>\n",
       "      <th>PassengerId</th>\n",
       "      <th></th>\n",
       "      <th></th>\n",
       "      <th></th>\n",
       "      <th></th>\n",
       "      <th></th>\n",
       "      <th></th>\n",
       "      <th></th>\n",
       "      <th></th>\n",
       "      <th></th>\n",
       "      <th></th>\n",
       "      <th></th>\n",
       "      <th></th>\n",
       "    </tr>\n",
       "  </thead>\n",
       "  <tbody>\n",
       "    <tr>\n",
       "      <th>461</th>\n",
       "      <td>1</td>\n",
       "      <td>Anderson, Mr. Harry</td>\n",
       "      <td>male</td>\n",
       "      <td>48.0</td>\n",
       "      <td>0</td>\n",
       "      <td>0</td>\n",
       "      <td>19952</td>\n",
       "      <td>26.55</td>\n",
       "      <td>E12</td>\n",
       "      <td>S</td>\n",
       "      <td>1</td>\n",
       "      <td>Mr</td>\n",
       "    </tr>\n",
       "    <tr>\n",
       "      <th>302</th>\n",
       "      <td>3</td>\n",
       "      <td>McCoy, Mr. Bernard</td>\n",
       "      <td>male</td>\n",
       "      <td>NaN</td>\n",
       "      <td>2</td>\n",
       "      <td>0</td>\n",
       "      <td>367226</td>\n",
       "      <td>23.25</td>\n",
       "      <td>NaN</td>\n",
       "      <td>Q</td>\n",
       "      <td>3</td>\n",
       "      <td>Mr</td>\n",
       "    </tr>\n",
       "    <tr>\n",
       "      <th>386</th>\n",
       "      <td>2</td>\n",
       "      <td>Davies, Mr. Charles Henry</td>\n",
       "      <td>male</td>\n",
       "      <td>18.0</td>\n",
       "      <td>0</td>\n",
       "      <td>0</td>\n",
       "      <td>S.O.C. 14879</td>\n",
       "      <td>73.50</td>\n",
       "      <td>NaN</td>\n",
       "      <td>S</td>\n",
       "      <td>1</td>\n",
       "      <td>Mr</td>\n",
       "    </tr>\n",
       "    <tr>\n",
       "      <th>321</th>\n",
       "      <td>3</td>\n",
       "      <td>Dennis, Mr. Samuel</td>\n",
       "      <td>male</td>\n",
       "      <td>22.0</td>\n",
       "      <td>0</td>\n",
       "      <td>0</td>\n",
       "      <td>A/5 21172</td>\n",
       "      <td>7.25</td>\n",
       "      <td>NaN</td>\n",
       "      <td>S</td>\n",
       "      <td>1</td>\n",
       "      <td>Mr</td>\n",
       "    </tr>\n",
       "    <tr>\n",
       "      <th>346</th>\n",
       "      <td>2</td>\n",
       "      <td>Brown, Miss. Amelia \"Mildred\"</td>\n",
       "      <td>female</td>\n",
       "      <td>24.0</td>\n",
       "      <td>0</td>\n",
       "      <td>0</td>\n",
       "      <td>248733</td>\n",
       "      <td>13.00</td>\n",
       "      <td>F33</td>\n",
       "      <td>S</td>\n",
       "      <td>1</td>\n",
       "      <td>Miss</td>\n",
       "    </tr>\n",
       "  </tbody>\n",
       "</table>\n",
       "</div>"
      ],
      "text/plain": [
       "             Pclass                           Name     Sex   Age  SibSp  \\\n",
       "PassengerId                                                               \n",
       "461               1            Anderson, Mr. Harry    male  48.0      0   \n",
       "302               3             McCoy, Mr. Bernard    male   NaN      2   \n",
       "386               2      Davies, Mr. Charles Henry    male  18.0      0   \n",
       "321               3             Dennis, Mr. Samuel    male  22.0      0   \n",
       "346               2  Brown, Miss. Amelia \"Mildred\"  female  24.0      0   \n",
       "\n",
       "             Parch        Ticket   Fare Cabin Embarked  FamilySize Title  \n",
       "PassengerId                                                               \n",
       "461              0         19952  26.55   E12        S           1    Mr  \n",
       "302              0        367226  23.25   NaN        Q           3    Mr  \n",
       "386              0  S.O.C. 14879  73.50   NaN        S           1    Mr  \n",
       "321              0     A/5 21172   7.25   NaN        S           1    Mr  \n",
       "346              0        248733  13.00   F33        S           1  Miss  "
      ]
     },
     "execution_count": 5,
     "metadata": {},
     "output_type": "execute_result"
    }
   ],
   "source": [
    "X_train.dtypes\n",
    "X_train.head()"
   ]
  },
  {
   "cell_type": "code",
   "execution_count": 6,
   "metadata": {},
   "outputs": [],
   "source": [
    "numeric_features = [\"Age\", \"Fare\"]\n",
    "categorical_features = [\n",
    "    \"Pclass\",\n",
    "    \"Sex\",\n",
    "    \"SibSp\",\n",
    "    \"Parch\",\n",
    "    \"Embarked\",\n",
    "    \"Title\",\n",
    "    \"FamilySize\",\n",
    "]\n",
    "discretized_features = [\"FamilySize\"]\n",
    "corrector_features = [\"Title\"]\n",
    "BINS = [0, 1, 2, 4, np.Inf]\n",
    "LABELS = [\"ALONE\", \"SMALL\", \"MED\", \"LARGE\"]\n",
    "KNOWN_PROBLEMS = [\n",
    "    \"Mlle\",\n",
    "    \"Mme\",\n",
    "    \"Ms\",\n",
    "    \"Dr\",\n",
    "    \"Major\",\n",
    "    \"Lady\",\n",
    "    \"Countess\",\n",
    "    \"Jonkheer\",\n",
    "    \"Col\",\n",
    "    \"Rev\",\n",
    "    \"Capt\",\n",
    "    \"Sir\",\n",
    "    \"Don\",\n",
    "]\n",
    "\n",
    "KNOWN_CORRECTIONS = [\n",
    "    \"Miss\",\n",
    "    \"Miss\",\n",
    "    \"Miss\",\n",
    "    \"Mr\",\n",
    "    \"Mr\",\n",
    "    \"Mrs\",\n",
    "    \"Mrs\",\n",
    "    \"Other\",\n",
    "    \"Other\",\n",
    "    \"Other\",\n",
    "    \"Mr\",\n",
    "    \"Mr\",\n",
    "    \"Mr\",\n",
    "]"
   ]
  },
  {
   "cell_type": "code",
   "execution_count": 55,
   "metadata": {},
   "outputs": [],
   "source": [
    "class TitleCorrector(BaseEstimator, TransformerMixin):\n",
    "    \"\"\"\n",
    "    Use transformer to correct the Title column and to One Hot Encoding.\n",
    "    \"\"\"\n",
    "\n",
    "    def __init__(self, known_problems: List, known_corrections: List):\n",
    "        self.known_corrections = known_corrections\n",
    "        self.known_problems = known_problems\n",
    "        self.enc = OneHotEncoder(handle_unknown=\"ignore\")\n",
    "\n",
    "    def fit(self, X, y=None) -> object:\n",
    "        return self\n",
    "\n",
    "    def transform(self, X, one_hot_encode: bool = True) -> object:\n",
    "        X_corrected = X.replace(self.known_problems, self.known_corrections)\n",
    "        self.feature_names = X_corrected.columns.tolist()\n",
    "\n",
    "        if one_hot_encode:\n",
    "            X_corrected = self.enc.fit_transform(X_corrected)\n",
    "            self.feature_names = self.enc.get_feature_names_out()\n",
    "\n",
    "        return X_corrected\n",
    "\n",
    "    def get_feature_names_out(self, input_features=None) -> list:\n",
    "        return self.feature_names"
   ]
  },
  {
   "cell_type": "code",
   "execution_count": 56,
   "metadata": {},
   "outputs": [],
   "source": [
    "# class Discretizer(BaseEstimator, TransformerMixin):\n",
    "#     \"\"\"\n",
    "#     Use transformer to discretize numeric data. Interface to pandas:`~pandas.cut`\n",
    "\n",
    "#     \"\"\"\n",
    "\n",
    "#     def __init__(self, bins: Any, labels: Any = None, **kwargs):\n",
    "\n",
    "#         # self.column = column\n",
    "#         self.bins = bins\n",
    "#         self.labels = labels\n",
    "#         self.kwargs = kwargs\n",
    "#         self.enc = OneHotEncoder(handle_unknown=\"ignore\")\n",
    "\n",
    "#     def fit(self, X, y=None):\n",
    "#         return self\n",
    "\n",
    "#     def transform(self, X):\n",
    "#         print(str(X.shape))\n",
    "#         X['test'] = np.where(X['FamilySize'] > 1, \"ALONE\", \"NOT\")\n",
    "#        # print(str(temp.shape))\n",
    "#         return self.enc.fit_transform([X['test']])"
   ]
  },
  {
   "cell_type": "code",
   "execution_count": 57,
   "metadata": {},
   "outputs": [
    {
     "data": {
      "text/html": [
       "<style>#sk-container-id-14 {color: black;background-color: white;}#sk-container-id-14 pre{padding: 0;}#sk-container-id-14 div.sk-toggleable {background-color: white;}#sk-container-id-14 label.sk-toggleable__label {cursor: pointer;display: block;width: 100%;margin-bottom: 0;padding: 0.3em;box-sizing: border-box;text-align: center;}#sk-container-id-14 label.sk-toggleable__label-arrow:before {content: \"▸\";float: left;margin-right: 0.25em;color: #696969;}#sk-container-id-14 label.sk-toggleable__label-arrow:hover:before {color: black;}#sk-container-id-14 div.sk-estimator:hover label.sk-toggleable__label-arrow:before {color: black;}#sk-container-id-14 div.sk-toggleable__content {max-height: 0;max-width: 0;overflow: hidden;text-align: left;background-color: #f0f8ff;}#sk-container-id-14 div.sk-toggleable__content pre {margin: 0.2em;color: black;border-radius: 0.25em;background-color: #f0f8ff;}#sk-container-id-14 input.sk-toggleable__control:checked~div.sk-toggleable__content {max-height: 200px;max-width: 100%;overflow: auto;}#sk-container-id-14 input.sk-toggleable__control:checked~label.sk-toggleable__label-arrow:before {content: \"▾\";}#sk-container-id-14 div.sk-estimator input.sk-toggleable__control:checked~label.sk-toggleable__label {background-color: #d4ebff;}#sk-container-id-14 div.sk-label input.sk-toggleable__control:checked~label.sk-toggleable__label {background-color: #d4ebff;}#sk-container-id-14 input.sk-hidden--visually {border: 0;clip: rect(1px 1px 1px 1px);clip: rect(1px, 1px, 1px, 1px);height: 1px;margin: -1px;overflow: hidden;padding: 0;position: absolute;width: 1px;}#sk-container-id-14 div.sk-estimator {font-family: monospace;background-color: #f0f8ff;border: 1px dotted black;border-radius: 0.25em;box-sizing: border-box;margin-bottom: 0.5em;}#sk-container-id-14 div.sk-estimator:hover {background-color: #d4ebff;}#sk-container-id-14 div.sk-parallel-item::after {content: \"\";width: 100%;border-bottom: 1px solid gray;flex-grow: 1;}#sk-container-id-14 div.sk-label:hover label.sk-toggleable__label {background-color: #d4ebff;}#sk-container-id-14 div.sk-serial::before {content: \"\";position: absolute;border-left: 1px solid gray;box-sizing: border-box;top: 0;bottom: 0;left: 50%;z-index: 0;}#sk-container-id-14 div.sk-serial {display: flex;flex-direction: column;align-items: center;background-color: white;padding-right: 0.2em;padding-left: 0.2em;position: relative;}#sk-container-id-14 div.sk-item {position: relative;z-index: 1;}#sk-container-id-14 div.sk-parallel {display: flex;align-items: stretch;justify-content: center;background-color: white;position: relative;}#sk-container-id-14 div.sk-item::before, #sk-container-id-14 div.sk-parallel-item::before {content: \"\";position: absolute;border-left: 1px solid gray;box-sizing: border-box;top: 0;bottom: 0;left: 50%;z-index: -1;}#sk-container-id-14 div.sk-parallel-item {display: flex;flex-direction: column;z-index: 1;position: relative;background-color: white;}#sk-container-id-14 div.sk-parallel-item:first-child::after {align-self: flex-end;width: 50%;}#sk-container-id-14 div.sk-parallel-item:last-child::after {align-self: flex-start;width: 50%;}#sk-container-id-14 div.sk-parallel-item:only-child::after {width: 0;}#sk-container-id-14 div.sk-dashed-wrapped {border: 1px dashed gray;margin: 0 0.4em 0.5em 0.4em;box-sizing: border-box;padding-bottom: 0.4em;background-color: white;}#sk-container-id-14 div.sk-label label {font-family: monospace;font-weight: bold;display: inline-block;line-height: 1.2em;}#sk-container-id-14 div.sk-label-container {text-align: center;}#sk-container-id-14 div.sk-container {/* jupyter's `normalize.less` sets `[hidden] { display: none; }` but bootstrap.min.css set `[hidden] { display: none !important; }` so we also need the `!important` here to be able to override the default hidden behavior on the sphinx rendered scikit-learn.org. See: https://github.com/scikit-learn/scikit-learn/issues/21755 */display: inline-block !important;position: relative;}#sk-container-id-14 div.sk-text-repr-fallback {display: none;}</style><div id=\"sk-container-id-14\" class=\"sk-top-container\"><div class=\"sk-text-repr-fallback\"><pre>Pipeline(steps=[(&#x27;imputer&#x27;, SimpleImputer(strategy=&#x27;median&#x27;)),\n",
       "                (&#x27;scaler&#x27;, StandardScaler())])</pre><b>In a Jupyter environment, please rerun this cell to show the HTML representation or trust the notebook. <br />On GitHub, the HTML representation is unable to render, please try loading this page with nbviewer.org.</b></div><div class=\"sk-container\" hidden><div class=\"sk-item sk-dashed-wrapped\"><div class=\"sk-label-container\"><div class=\"sk-label sk-toggleable\"><input class=\"sk-toggleable__control sk-hidden--visually\" id=\"sk-estimator-id-73\" type=\"checkbox\" ><label for=\"sk-estimator-id-73\" class=\"sk-toggleable__label sk-toggleable__label-arrow\">Pipeline</label><div class=\"sk-toggleable__content\"><pre>Pipeline(steps=[(&#x27;imputer&#x27;, SimpleImputer(strategy=&#x27;median&#x27;)),\n",
       "                (&#x27;scaler&#x27;, StandardScaler())])</pre></div></div></div><div class=\"sk-serial\"><div class=\"sk-item\"><div class=\"sk-estimator sk-toggleable\"><input class=\"sk-toggleable__control sk-hidden--visually\" id=\"sk-estimator-id-74\" type=\"checkbox\" ><label for=\"sk-estimator-id-74\" class=\"sk-toggleable__label sk-toggleable__label-arrow\">SimpleImputer</label><div class=\"sk-toggleable__content\"><pre>SimpleImputer(strategy=&#x27;median&#x27;)</pre></div></div></div><div class=\"sk-item\"><div class=\"sk-estimator sk-toggleable\"><input class=\"sk-toggleable__control sk-hidden--visually\" id=\"sk-estimator-id-75\" type=\"checkbox\" ><label for=\"sk-estimator-id-75\" class=\"sk-toggleable__label sk-toggleable__label-arrow\">StandardScaler</label><div class=\"sk-toggleable__content\"><pre>StandardScaler()</pre></div></div></div></div></div></div></div>"
      ],
      "text/plain": [
       "Pipeline(steps=[('imputer', SimpleImputer(strategy='median')),\n",
       "                ('scaler', StandardScaler())])"
      ]
     },
     "execution_count": 57,
     "metadata": {},
     "output_type": "execute_result"
    }
   ],
   "source": [
    "# fmt: off\n",
    "numeric_transformer = Pipeline(\n",
    "    steps=[\n",
    "        (\"imputer\", SimpleImputer(strategy=NUMERIC_TRANSFORMER_REPLACEMENT)),\n",
    "        (\"scaler\", StandardScaler()),\n",
    "    ]\n",
    ")\n",
    "numeric_transformer\n",
    "# fmt: on"
   ]
  },
  {
   "cell_type": "code",
   "execution_count": 58,
   "metadata": {},
   "outputs": [
    {
     "data": {
      "text/html": [
       "<style>#sk-container-id-15 {color: black;background-color: white;}#sk-container-id-15 pre{padding: 0;}#sk-container-id-15 div.sk-toggleable {background-color: white;}#sk-container-id-15 label.sk-toggleable__label {cursor: pointer;display: block;width: 100%;margin-bottom: 0;padding: 0.3em;box-sizing: border-box;text-align: center;}#sk-container-id-15 label.sk-toggleable__label-arrow:before {content: \"▸\";float: left;margin-right: 0.25em;color: #696969;}#sk-container-id-15 label.sk-toggleable__label-arrow:hover:before {color: black;}#sk-container-id-15 div.sk-estimator:hover label.sk-toggleable__label-arrow:before {color: black;}#sk-container-id-15 div.sk-toggleable__content {max-height: 0;max-width: 0;overflow: hidden;text-align: left;background-color: #f0f8ff;}#sk-container-id-15 div.sk-toggleable__content pre {margin: 0.2em;color: black;border-radius: 0.25em;background-color: #f0f8ff;}#sk-container-id-15 input.sk-toggleable__control:checked~div.sk-toggleable__content {max-height: 200px;max-width: 100%;overflow: auto;}#sk-container-id-15 input.sk-toggleable__control:checked~label.sk-toggleable__label-arrow:before {content: \"▾\";}#sk-container-id-15 div.sk-estimator input.sk-toggleable__control:checked~label.sk-toggleable__label {background-color: #d4ebff;}#sk-container-id-15 div.sk-label input.sk-toggleable__control:checked~label.sk-toggleable__label {background-color: #d4ebff;}#sk-container-id-15 input.sk-hidden--visually {border: 0;clip: rect(1px 1px 1px 1px);clip: rect(1px, 1px, 1px, 1px);height: 1px;margin: -1px;overflow: hidden;padding: 0;position: absolute;width: 1px;}#sk-container-id-15 div.sk-estimator {font-family: monospace;background-color: #f0f8ff;border: 1px dotted black;border-radius: 0.25em;box-sizing: border-box;margin-bottom: 0.5em;}#sk-container-id-15 div.sk-estimator:hover {background-color: #d4ebff;}#sk-container-id-15 div.sk-parallel-item::after {content: \"\";width: 100%;border-bottom: 1px solid gray;flex-grow: 1;}#sk-container-id-15 div.sk-label:hover label.sk-toggleable__label {background-color: #d4ebff;}#sk-container-id-15 div.sk-serial::before {content: \"\";position: absolute;border-left: 1px solid gray;box-sizing: border-box;top: 0;bottom: 0;left: 50%;z-index: 0;}#sk-container-id-15 div.sk-serial {display: flex;flex-direction: column;align-items: center;background-color: white;padding-right: 0.2em;padding-left: 0.2em;position: relative;}#sk-container-id-15 div.sk-item {position: relative;z-index: 1;}#sk-container-id-15 div.sk-parallel {display: flex;align-items: stretch;justify-content: center;background-color: white;position: relative;}#sk-container-id-15 div.sk-item::before, #sk-container-id-15 div.sk-parallel-item::before {content: \"\";position: absolute;border-left: 1px solid gray;box-sizing: border-box;top: 0;bottom: 0;left: 50%;z-index: -1;}#sk-container-id-15 div.sk-parallel-item {display: flex;flex-direction: column;z-index: 1;position: relative;background-color: white;}#sk-container-id-15 div.sk-parallel-item:first-child::after {align-self: flex-end;width: 50%;}#sk-container-id-15 div.sk-parallel-item:last-child::after {align-self: flex-start;width: 50%;}#sk-container-id-15 div.sk-parallel-item:only-child::after {width: 0;}#sk-container-id-15 div.sk-dashed-wrapped {border: 1px dashed gray;margin: 0 0.4em 0.5em 0.4em;box-sizing: border-box;padding-bottom: 0.4em;background-color: white;}#sk-container-id-15 div.sk-label label {font-family: monospace;font-weight: bold;display: inline-block;line-height: 1.2em;}#sk-container-id-15 div.sk-label-container {text-align: center;}#sk-container-id-15 div.sk-container {/* jupyter's `normalize.less` sets `[hidden] { display: none; }` but bootstrap.min.css set `[hidden] { display: none !important; }` so we also need the `!important` here to be able to override the default hidden behavior on the sphinx rendered scikit-learn.org. See: https://github.com/scikit-learn/scikit-learn/issues/21755 */display: inline-block !important;position: relative;}#sk-container-id-15 div.sk-text-repr-fallback {display: none;}</style><div id=\"sk-container-id-15\" class=\"sk-top-container\"><div class=\"sk-text-repr-fallback\"><pre>ColumnTransformer(transformers=[(&#x27;correct&#x27;,\n",
       "                                 TitleCorrector(known_corrections=[&#x27;Miss&#x27;,\n",
       "                                                                   &#x27;Miss&#x27;,\n",
       "                                                                   &#x27;Miss&#x27;, &#x27;Mr&#x27;,\n",
       "                                                                   &#x27;Mr&#x27;, &#x27;Mrs&#x27;,\n",
       "                                                                   &#x27;Mrs&#x27;,\n",
       "                                                                   &#x27;Other&#x27;,\n",
       "                                                                   &#x27;Other&#x27;,\n",
       "                                                                   &#x27;Other&#x27;,\n",
       "                                                                   &#x27;Mr&#x27;, &#x27;Mr&#x27;,\n",
       "                                                                   &#x27;Mr&#x27;],\n",
       "                                                known_problems=[&#x27;Mlle&#x27;, &#x27;Mme&#x27;,\n",
       "                                                                &#x27;Ms&#x27;, &#x27;Dr&#x27;,\n",
       "                                                                &#x27;Major&#x27;, &#x27;Lady&#x27;,\n",
       "                                                                &#x27;Countess&#x27;,\n",
       "                                                                &#x27;Jonkheer&#x27;,\n",
       "                                                                &#x27;Col&#x27;, &#x27;Rev&#x27;,\n",
       "                                                                &#x27;Capt&#x27;, &#x27;Sir&#x27;,\n",
       "                                                                &#x27;Don&#x27;]),\n",
       "                                 [&#x27;Title&#x27;]),\n",
       "                                (&#x27;num&#x27;,\n",
       "                                 Pipeline(steps=[(&#x27;imputer&#x27;,\n",
       "                                                  SimpleImputer(strategy=&#x27;median&#x27;)),\n",
       "                                                 (&#x27;scaler&#x27;, StandardScaler())]),\n",
       "                                 [&#x27;Age&#x27;, &#x27;Fare&#x27;]),\n",
       "                                (&#x27;onehot&#x27;,\n",
       "                                 OneHotEncoder(handle_unknown=&#x27;ignore&#x27;),\n",
       "                                 [&#x27;Pclass&#x27;, &#x27;Sex&#x27;, &#x27;SibSp&#x27;, &#x27;Parch&#x27;, &#x27;Embarked&#x27;,\n",
       "                                  &#x27;Title&#x27;, &#x27;FamilySize&#x27;])])</pre><b>In a Jupyter environment, please rerun this cell to show the HTML representation or trust the notebook. <br />On GitHub, the HTML representation is unable to render, please try loading this page with nbviewer.org.</b></div><div class=\"sk-container\" hidden><div class=\"sk-item sk-dashed-wrapped\"><div class=\"sk-label-container\"><div class=\"sk-label sk-toggleable\"><input class=\"sk-toggleable__control sk-hidden--visually\" id=\"sk-estimator-id-76\" type=\"checkbox\" ><label for=\"sk-estimator-id-76\" class=\"sk-toggleable__label sk-toggleable__label-arrow\">ColumnTransformer</label><div class=\"sk-toggleable__content\"><pre>ColumnTransformer(transformers=[(&#x27;correct&#x27;,\n",
       "                                 TitleCorrector(known_corrections=[&#x27;Miss&#x27;,\n",
       "                                                                   &#x27;Miss&#x27;,\n",
       "                                                                   &#x27;Miss&#x27;, &#x27;Mr&#x27;,\n",
       "                                                                   &#x27;Mr&#x27;, &#x27;Mrs&#x27;,\n",
       "                                                                   &#x27;Mrs&#x27;,\n",
       "                                                                   &#x27;Other&#x27;,\n",
       "                                                                   &#x27;Other&#x27;,\n",
       "                                                                   &#x27;Other&#x27;,\n",
       "                                                                   &#x27;Mr&#x27;, &#x27;Mr&#x27;,\n",
       "                                                                   &#x27;Mr&#x27;],\n",
       "                                                known_problems=[&#x27;Mlle&#x27;, &#x27;Mme&#x27;,\n",
       "                                                                &#x27;Ms&#x27;, &#x27;Dr&#x27;,\n",
       "                                                                &#x27;Major&#x27;, &#x27;Lady&#x27;,\n",
       "                                                                &#x27;Countess&#x27;,\n",
       "                                                                &#x27;Jonkheer&#x27;,\n",
       "                                                                &#x27;Col&#x27;, &#x27;Rev&#x27;,\n",
       "                                                                &#x27;Capt&#x27;, &#x27;Sir&#x27;,\n",
       "                                                                &#x27;Don&#x27;]),\n",
       "                                 [&#x27;Title&#x27;]),\n",
       "                                (&#x27;num&#x27;,\n",
       "                                 Pipeline(steps=[(&#x27;imputer&#x27;,\n",
       "                                                  SimpleImputer(strategy=&#x27;median&#x27;)),\n",
       "                                                 (&#x27;scaler&#x27;, StandardScaler())]),\n",
       "                                 [&#x27;Age&#x27;, &#x27;Fare&#x27;]),\n",
       "                                (&#x27;onehot&#x27;,\n",
       "                                 OneHotEncoder(handle_unknown=&#x27;ignore&#x27;),\n",
       "                                 [&#x27;Pclass&#x27;, &#x27;Sex&#x27;, &#x27;SibSp&#x27;, &#x27;Parch&#x27;, &#x27;Embarked&#x27;,\n",
       "                                  &#x27;Title&#x27;, &#x27;FamilySize&#x27;])])</pre></div></div></div><div class=\"sk-parallel\"><div class=\"sk-parallel-item\"><div class=\"sk-item\"><div class=\"sk-label-container\"><div class=\"sk-label sk-toggleable\"><input class=\"sk-toggleable__control sk-hidden--visually\" id=\"sk-estimator-id-77\" type=\"checkbox\" ><label for=\"sk-estimator-id-77\" class=\"sk-toggleable__label sk-toggleable__label-arrow\">correct</label><div class=\"sk-toggleable__content\"><pre>[&#x27;Title&#x27;]</pre></div></div></div><div class=\"sk-serial\"><div class=\"sk-item\"><div class=\"sk-estimator sk-toggleable\"><input class=\"sk-toggleable__control sk-hidden--visually\" id=\"sk-estimator-id-78\" type=\"checkbox\" ><label for=\"sk-estimator-id-78\" class=\"sk-toggleable__label sk-toggleable__label-arrow\">TitleCorrector</label><div class=\"sk-toggleable__content\"><pre>TitleCorrector(known_corrections=[&#x27;Miss&#x27;, &#x27;Miss&#x27;, &#x27;Miss&#x27;, &#x27;Mr&#x27;, &#x27;Mr&#x27;, &#x27;Mrs&#x27;,\n",
       "                                  &#x27;Mrs&#x27;, &#x27;Other&#x27;, &#x27;Other&#x27;, &#x27;Other&#x27;, &#x27;Mr&#x27;, &#x27;Mr&#x27;,\n",
       "                                  &#x27;Mr&#x27;],\n",
       "               known_problems=[&#x27;Mlle&#x27;, &#x27;Mme&#x27;, &#x27;Ms&#x27;, &#x27;Dr&#x27;, &#x27;Major&#x27;, &#x27;Lady&#x27;,\n",
       "                               &#x27;Countess&#x27;, &#x27;Jonkheer&#x27;, &#x27;Col&#x27;, &#x27;Rev&#x27;, &#x27;Capt&#x27;,\n",
       "                               &#x27;Sir&#x27;, &#x27;Don&#x27;])</pre></div></div></div></div></div></div><div class=\"sk-parallel-item\"><div class=\"sk-item\"><div class=\"sk-label-container\"><div class=\"sk-label sk-toggleable\"><input class=\"sk-toggleable__control sk-hidden--visually\" id=\"sk-estimator-id-79\" type=\"checkbox\" ><label for=\"sk-estimator-id-79\" class=\"sk-toggleable__label sk-toggleable__label-arrow\">num</label><div class=\"sk-toggleable__content\"><pre>[&#x27;Age&#x27;, &#x27;Fare&#x27;]</pre></div></div></div><div class=\"sk-serial\"><div class=\"sk-item\"><div class=\"sk-serial\"><div class=\"sk-item\"><div class=\"sk-estimator sk-toggleable\"><input class=\"sk-toggleable__control sk-hidden--visually\" id=\"sk-estimator-id-80\" type=\"checkbox\" ><label for=\"sk-estimator-id-80\" class=\"sk-toggleable__label sk-toggleable__label-arrow\">SimpleImputer</label><div class=\"sk-toggleable__content\"><pre>SimpleImputer(strategy=&#x27;median&#x27;)</pre></div></div></div><div class=\"sk-item\"><div class=\"sk-estimator sk-toggleable\"><input class=\"sk-toggleable__control sk-hidden--visually\" id=\"sk-estimator-id-81\" type=\"checkbox\" ><label for=\"sk-estimator-id-81\" class=\"sk-toggleable__label sk-toggleable__label-arrow\">StandardScaler</label><div class=\"sk-toggleable__content\"><pre>StandardScaler()</pre></div></div></div></div></div></div></div></div><div class=\"sk-parallel-item\"><div class=\"sk-item\"><div class=\"sk-label-container\"><div class=\"sk-label sk-toggleable\"><input class=\"sk-toggleable__control sk-hidden--visually\" id=\"sk-estimator-id-82\" type=\"checkbox\" ><label for=\"sk-estimator-id-82\" class=\"sk-toggleable__label sk-toggleable__label-arrow\">onehot</label><div class=\"sk-toggleable__content\"><pre>[&#x27;Pclass&#x27;, &#x27;Sex&#x27;, &#x27;SibSp&#x27;, &#x27;Parch&#x27;, &#x27;Embarked&#x27;, &#x27;Title&#x27;, &#x27;FamilySize&#x27;]</pre></div></div></div><div class=\"sk-serial\"><div class=\"sk-item\"><div class=\"sk-estimator sk-toggleable\"><input class=\"sk-toggleable__control sk-hidden--visually\" id=\"sk-estimator-id-83\" type=\"checkbox\" ><label for=\"sk-estimator-id-83\" class=\"sk-toggleable__label sk-toggleable__label-arrow\">OneHotEncoder</label><div class=\"sk-toggleable__content\"><pre>OneHotEncoder(handle_unknown=&#x27;ignore&#x27;)</pre></div></div></div></div></div></div></div></div></div></div>"
      ],
      "text/plain": [
       "ColumnTransformer(transformers=[('correct',\n",
       "                                 TitleCorrector(known_corrections=['Miss',\n",
       "                                                                   'Miss',\n",
       "                                                                   'Miss', 'Mr',\n",
       "                                                                   'Mr', 'Mrs',\n",
       "                                                                   'Mrs',\n",
       "                                                                   'Other',\n",
       "                                                                   'Other',\n",
       "                                                                   'Other',\n",
       "                                                                   'Mr', 'Mr',\n",
       "                                                                   'Mr'],\n",
       "                                                known_problems=['Mlle', 'Mme',\n",
       "                                                                'Ms', 'Dr',\n",
       "                                                                'Major', 'Lady',\n",
       "                                                                'Countess',\n",
       "                                                                'Jonkheer',\n",
       "                                                                'Col', 'Rev',\n",
       "                                                                'Capt', 'Sir',\n",
       "                                                                'Don']),\n",
       "                                 ['Title']),\n",
       "                                ('num',\n",
       "                                 Pipeline(steps=[('imputer',\n",
       "                                                  SimpleImputer(strategy='median')),\n",
       "                                                 ('scaler', StandardScaler())]),\n",
       "                                 ['Age', 'Fare']),\n",
       "                                ('onehot',\n",
       "                                 OneHotEncoder(handle_unknown='ignore'),\n",
       "                                 ['Pclass', 'Sex', 'SibSp', 'Parch', 'Embarked',\n",
       "                                  'Title', 'FamilySize'])])"
      ]
     },
     "execution_count": 58,
     "metadata": {},
     "output_type": "execute_result"
    }
   ],
   "source": [
    "# fmt: off\n",
    "preprocessor = ColumnTransformer(\n",
    "    transformers=[\n",
    "        #(\"discretize\", Discretizer(bins=BINS, labels=LABELS), discretized_features),\n",
    "        (\"correct\",    TitleCorrector(KNOWN_PROBLEMS, KNOWN_CORRECTIONS), corrector_features),\n",
    "        (\"num\", numeric_transformer, numeric_features),\n",
    "        (\"onehot\", OneHotEncoder(handle_unknown=\"ignore\"), categorical_features),\n",
    "    ]\n",
    ")\n",
    "preprocessor\n",
    "# fmt: on"
   ]
  },
  {
   "cell_type": "code",
   "execution_count": 61,
   "metadata": {},
   "outputs": [
    {
     "name": "stdout",
     "output_type": "stream",
     "text": [
      "['Title_Master' 'Title_Miss' 'Title_Mr' 'Title_Mrs' 'Title_Other']\n"
     ]
    }
   ],
   "source": [
    "preprocess = Pipeline(steps=[(\"preprocessor\", preprocessor)])\n",
    "\n",
    "df_to_inspect = pd.DataFrame.sparse.from_spmatrix(\n",
    "    preprocess.named_steps[\"preprocessor\"].fit_transform(X_train)\n",
    ")\n",
    "\n",
    "df_to_inspect.columns = preprocess[\"preprocessor\"].get_feature_names_out()\n",
    "# df_to_inspect.head()"
   ]
  },
  {
   "cell_type": "code",
   "execution_count": null,
   "metadata": {},
   "outputs": [],
   "source": [
    "clf = Pipeline(\n",
    "    steps=[(\"preprocessor\", preprocessor), (\"classifier\", RandomForestClassifier())]\n",
    ")"
   ]
  },
  {
   "cell_type": "code",
   "execution_count": null,
   "metadata": {},
   "outputs": [],
   "source": [
    "clf.fit(X_train, y_train)\n",
    "print(\"model score: %.3f\" % clf.score(X_test, y_test))\n",
    "print(\"model score: %.3f\" % clf.score(X_val, y_val))"
   ]
  },
  {
   "cell_type": "markdown",
   "metadata": {},
   "source": [
    "Acknowledgement:\n",
    "- Gunes Evitan's Kaggle Notebook on [Titanic - Advanced Feature Engineering Tutorial](https://www.kaggle.com/code/gunesevitan/titanic-advanced-feature-engineering-tutorial/notebook)\n",
    "- Ashwini Swain's Kaggle Notebook SWAIN [EDA To Prediction(DieTanic)](https://www.kaggle.com/ash316/eda-to-prediction-dietanic)\n",
    "- Petro Morales's sklearn Tutorial on [Column Transformer with Mixed Types](https://scikit-learn.org/stable/auto_examples/compose/plot_column_transformer_mixed_types.html?highlight=standardscaler)"
   ]
  },
  {
   "cell_type": "code",
   "execution_count": 34,
   "metadata": {},
   "outputs": [
    {
     "name": "stdout",
     "output_type": "stream",
     "text": [
      "['Title']\n"
     ]
    },
    {
     "data": {
      "text/plain": [
       "array(['correct__Title', 'num__Age', 'num__Fare', 'onehot__Pclass_1',\n",
       "       'onehot__Pclass_2', 'onehot__Pclass_3', 'onehot__Sex_female',\n",
       "       'onehot__Sex_male', 'onehot__SibSp_0', 'onehot__SibSp_1',\n",
       "       'onehot__SibSp_2', 'onehot__SibSp_3', 'onehot__SibSp_4',\n",
       "       'onehot__SibSp_5', 'onehot__SibSp_8', 'onehot__Parch_0',\n",
       "       'onehot__Parch_1', 'onehot__Parch_2', 'onehot__Parch_3',\n",
       "       'onehot__Parch_4', 'onehot__Parch_5', 'onehot__Parch_6',\n",
       "       'onehot__Embarked_C', 'onehot__Embarked_Q', 'onehot__Embarked_S',\n",
       "       'onehot__Embarked_nan', 'onehot__Title_Capt', 'onehot__Title_Col',\n",
       "       'onehot__Title_Countess', 'onehot__Title_Dr', 'onehot__Title_Lady',\n",
       "       'onehot__Title_Master', 'onehot__Title_Miss', 'onehot__Title_Mlle',\n",
       "       'onehot__Title_Mme', 'onehot__Title_Mr', 'onehot__Title_Mrs',\n",
       "       'onehot__Title_Ms', 'onehot__Title_Rev', 'onehot__FamilySize_1',\n",
       "       'onehot__FamilySize_2', 'onehot__FamilySize_3',\n",
       "       'onehot__FamilySize_4', 'onehot__FamilySize_5',\n",
       "       'onehot__FamilySize_6', 'onehot__FamilySize_7',\n",
       "       'onehot__FamilySize_8', 'onehot__FamilySize_11'], dtype=object)"
      ]
     },
     "execution_count": 34,
     "metadata": {},
     "output_type": "execute_result"
    }
   ],
   "source": [
    "(preprocess[\"preprocessor\"].get_feature_names_out())"
   ]
  },
  {
   "cell_type": "markdown",
   "metadata": {},
   "source": [
    "___\n"
   ]
  },
  {
   "cell_type": "code",
   "execution_count": 60,
   "metadata": {},
   "outputs": [
    {
     "name": "stdout",
     "output_type": "stream",
     "text": [
      "['Title_Master' 'Title_Miss' 'Title_Mr' 'Title_Mrs' 'Title_Other']\n"
     ]
    },
    {
     "data": {
      "text/plain": [
       "array(['correct__Title_Master', 'correct__Title_Miss',\n",
       "       'correct__Title_Mr', 'correct__Title_Mrs', 'correct__Title_Other',\n",
       "       'num__Age', 'num__Fare', 'onehot__Pclass_1', 'onehot__Pclass_2',\n",
       "       'onehot__Pclass_3', 'onehot__Sex_female', 'onehot__Sex_male',\n",
       "       'onehot__SibSp_0', 'onehot__SibSp_1', 'onehot__SibSp_2',\n",
       "       'onehot__SibSp_3', 'onehot__SibSp_4', 'onehot__SibSp_5',\n",
       "       'onehot__SibSp_8', 'onehot__Parch_0', 'onehot__Parch_1',\n",
       "       'onehot__Parch_2', 'onehot__Parch_3', 'onehot__Parch_4',\n",
       "       'onehot__Parch_5', 'onehot__Parch_6', 'onehot__Embarked_C',\n",
       "       'onehot__Embarked_Q', 'onehot__Embarked_S', 'onehot__Embarked_nan',\n",
       "       'onehot__Title_Capt', 'onehot__Title_Col',\n",
       "       'onehot__Title_Countess', 'onehot__Title_Dr', 'onehot__Title_Lady',\n",
       "       'onehot__Title_Master', 'onehot__Title_Miss', 'onehot__Title_Mlle',\n",
       "       'onehot__Title_Mme', 'onehot__Title_Mr', 'onehot__Title_Mrs',\n",
       "       'onehot__Title_Ms', 'onehot__Title_Rev', 'onehot__FamilySize_1',\n",
       "       'onehot__FamilySize_2', 'onehot__FamilySize_3',\n",
       "       'onehot__FamilySize_4', 'onehot__FamilySize_5',\n",
       "       'onehot__FamilySize_6', 'onehot__FamilySize_7',\n",
       "       'onehot__FamilySize_8', 'onehot__FamilySize_11'], dtype=object)"
      ]
     },
     "execution_count": 60,
     "metadata": {},
     "output_type": "execute_result"
    }
   ],
   "source": [
    "preprocess[\"preprocessor\"].get_feature_names_out()"
   ]
  },
  {
   "cell_type": "markdown",
   "metadata": {},
   "source": [
    "preprocess['preprocessor'].get_feature_names_out()"
   ]
  }
 ],
 "metadata": {
  "kernelspec": {
   "display_name": "Python 3.10.5 ('venv': venv)",
   "language": "python",
   "name": "python3"
  },
  "language_info": {
   "codemirror_mode": {
    "name": "ipython",
    "version": 3
   },
   "file_extension": ".py",
   "mimetype": "text/x-python",
   "name": "python",
   "nbconvert_exporter": "python",
   "pygments_lexer": "ipython3",
   "version": "3.10.5"
  },
  "orig_nbformat": 4,
  "vscode": {
   "interpreter": {
    "hash": "17469cfd3d1b513881d871301ae35960f1b42feed1e9d28719ec268723af41bc"
   }
  }
 },
 "nbformat": 4,
 "nbformat_minor": 2
}

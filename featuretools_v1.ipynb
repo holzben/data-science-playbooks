{
 "cells": [
  {
   "cell_type": "code",
   "execution_count": null,
   "metadata": {},
   "outputs": [],
   "source": [
    "import pandas as pd\n",
    "import numpy as np\n",
    "\n",
    "import featuretools as ft\n",
    "from datetime import datetime\n",
    "from uuid import uuid4\n",
    "from dateutil.relativedelta import relativedelta\n",
    "from sklearn.model_selection import train_test_split\n",
    "import xgboost as xgb\n",
    "\n",
    "from scipy.stats import uniform, randint\n",
    "\n",
    "from sklearn.datasets import load_breast_cancer, load_diabetes, load_wine\n",
    "from sklearn.metrics import auc, accuracy_score, confusion_matrix, mean_squared_error\n",
    "from sklearn.model_selection import cross_val_score, GridSearchCV, KFold, RandomizedSearchCV, train_test_split"
   ]
  },
  {
   "cell_type": "code",
   "execution_count": null,
   "metadata": {},
   "outputs": [],
   "source": [
    "# https://github.com/IBM/telco-customer-churn-on-icp4d\n",
    "URL_TO_DATA = \"https://raw.githubusercontent.com/IBM/telco-customer-churn-on-icp4d/master/data/Telco-Customer-Churn.csv\"\n",
    "\n",
    "CUSTOMERS = [\n",
    "    # \"customerID\",\n",
    "    \"gender\",\n",
    "    \"SeniorCitizen\",\n",
    "    \"Partner\",\n",
    "    \"Dependents\",\n",
    "    \"ContractStartDate\",\n",
    "]\n",
    "SUBSCRIPTIONS = [\n",
    "    # \"customerID\",\n",
    "    \"PhoneService\",\n",
    "    \"MultipleLines\",\n",
    "    \"InternetService\",\n",
    "    \"OnlineSecurity\",\n",
    "    \"OnlineBackup\",\n",
    "    \"DeviceProtection\",\n",
    "    \"TechSupport\",\n",
    "    \"StreamingTV\",\n",
    "    \"StreamingMovies\",\n",
    "]\n",
    "\n",
    "BILLING = [\n",
    "    # \"customerID\",\n",
    "    \"tenure\",\n",
    "    \"Contract\",\n",
    "    \"PaperlessBilling\",\n",
    "    \"PaymentMethod\",\n",
    "    \"MonthlyCharges\",\n",
    "    \"TotalCharges\",\n",
    "    \"Churn\",\n",
    "]\n",
    "\n",
    "BACK_COUNT_DATE = datetime.fromisoformat(\"2022-01-01\")\n",
    "TEST_SIZE = 0.2\n",
    "VALID_SIZE = 0.25\n",
    "RANDOM_STATE = 42"
   ]
  },
  {
   "cell_type": "markdown",
   "metadata": {},
   "source": [
    "- ft titanic https://www.kaggle.com/code/liananapalkova/automated-feature-engineering-for-titanic-dataset/notebook\n",
    "- the dataset https://github.com/IBM/telco-customer-churn-on-icp4d/blob/master/data/Telco-Customer-Churn.csv\n",
    "- titanic https://medium.com/dataexplorations/tool-review-can-featuretools-simplify-the-process-of-feature-engineering-5d165100b0c3\n",
    "- time indexing recomandations https://stackoverflow.com/questions/49711987/how-do-i-prevent-data-leakage-with-featuretools\n",
    "\n"
   ]
  },
  {
   "cell_type": "markdown",
   "metadata": {},
   "source": [
    "\n",
    "### Denormalize into \n",
    "- customer_df:      customer_id (PK), subscription_id (FK), gender, SeniorCitizen, Partner, Dependents, tenure, Churn\n",
    "- services_df:      service_id (PK), service_name\n",
    "- subscription_df:  subscription_id (PK), service_id, customer_id\n",
    "- billing_df:       billing_id, Contract, PaperlessBilling, PaymentMethod, MonthlyCharges, TotalCharges\n"
   ]
  },
  {
   "cell_type": "code",
   "execution_count": null,
   "metadata": {},
   "outputs": [],
   "source": [
    "# in case of CERTIFICATE_VERIFY_FAILED run Install Certificates.command\n",
    "# see also https://stackoverflow.com/questions/50236117/scraping-ssl-certificate-verify-failed-error-for-http-en-wikipedia-org\n",
    "df = pd.read_csv(filepath_or_buffer=URL_TO_DATA, index_col=0)"
   ]
  },
  {
   "cell_type": "code",
   "execution_count": null,
   "metadata": {},
   "outputs": [],
   "source": [
    "# convert\n",
    "df[\"TotalCharges\"] = pd.to_numeric(df[\"TotalCharges\"], errors=\"coerce\")\n",
    "\n",
    "# generate syntatic time index\n",
    "df[\"ContractStartDate\"] = list(\n",
    "    map(\n",
    "        lambda tenure, dat=BACK_COUNT_DATE: dat - relativedelta(months=-tenure),\n",
    "        df[\"tenure\"],\n",
    "    )\n",
    ")\n",
    "# df[\"customerID\"] = df.index\n",
    "df[\"billingId\"] = [str(uuid4()) for _ in range(df.shape[0])]\n",
    "df[\"subscriptionId\"] = [str(uuid4()) for _ in range(df.shape[0])]\n",
    "\n",
    "# convert to 1/0\n",
    "df[\"Churn\"] = np.where(df[\"Churn\"] == 'Yes', 1, 0)"
   ]
  },
  {
   "cell_type": "code",
   "execution_count": null,
   "metadata": {},
   "outputs": [],
   "source": [
    "y = df[\"Churn\"]\n",
    "X = df.drop(columns=[\"Churn\"])\n",
    "\n",
    "X_train, X_test, y_train, y_test = train_test_split(\n",
    "    X, y, test_size=TEST_SIZE, random_state=RANDOM_STATE\n",
    ")\n",
    "X_train, X_val, y_train, y_val = train_test_split(\n",
    "    X_train, y_train, test_size=VALID_SIZE, random_state=RANDOM_STATE\n",
    ")  # 0.25 x 0.8 = 0.2"
   ]
  },
  {
   "cell_type": "code",
   "execution_count": null,
   "metadata": {},
   "outputs": [],
   "source": [
    "# df_customers = df[CUSTOMERS].copy(deep=True)\n",
    "# df_subscriptions = df[SUBSCRIPTIONS].copy(deep=True)\n",
    "# df_billing = df[BILLING].copy(deep=True)"
   ]
  },
  {
   "cell_type": "code",
   "execution_count": null,
   "metadata": {},
   "outputs": [],
   "source": [
    "# dataframes = {\n",
    "#     \"customers\": (df_customers, \"customer_id\"),\n",
    "#     \"subscriptions\": (df_subscriptions, \"customer_id\", \"customer_id\"),\n",
    "#     \"billing\": (df_billing, \"customer_id\", \"customer_id\"),\n",
    "# }\n",
    "\n",
    "\n",
    "# relationships = [\n",
    "#     (\"customers\", \"customer_id\", \"subscriptions\", \"customer_id\"),\n",
    "#     (\"subscriptions\", \"customer_id\", \"billing\", \"customer_id\"),\n",
    "# ]\n",
    "\n",
    "# feature_matrix_customers, features_defs = ft.dfs(\n",
    "#     dataframes=dataframes,\n",
    "#     relationships=relationships,\n",
    "#     target_dataframe_name=\"customers\",\n",
    "# )\n",
    "# feature_matrix_customers"
   ]
  },
  {
   "cell_type": "code",
   "execution_count": null,
   "metadata": {},
   "outputs": [],
   "source": [
    "# https://featuretools.alteryx.com/en/stable/generated/featuretools.EntitySet.add_dataframe.html#featuretools.EntitySet.add_dataframe\n",
    "# entity_set = ft.EntitySet(\"customer_churn_entities\")\n",
    "\n",
    "# entity_set.add_dataframe(\n",
    "#     dataframe_name=\"customers\",\n",
    "#     index=\"customerID\",\n",
    "#     time_index=\"ContractStartDate\",\n",
    "#     dataframe=df_customers,\n",
    "# )\n",
    "\n",
    "# entity_set.add_dataframe(\n",
    "#     dataframe_name=\"subscriptions\",\n",
    "#     index=\"customerID\",\n",
    "#     dataframe=df_subscriptions,\n",
    "# )\n",
    "\n",
    "# entity_set.add_dataframe(\n",
    "#     dataframe_name=\"billing\",\n",
    "#     index=\"customerID\",\n",
    "#     dataframe=df_billing,\n",
    "# )\n",
    "\n",
    "# relationships = [\n",
    "#     (\"customers\", \"customerID\", \"subscriptions\", \"customerID\"),\n",
    "#     (\"subscriptions\", \"customerID\", \"billing\", \"customerID\"),\n",
    "# ]\n",
    "\n",
    "# entity_set.add_relationships(relationships=relationships)"
   ]
  },
  {
   "cell_type": "code",
   "execution_count": null,
   "metadata": {},
   "outputs": [],
   "source": [
    "es = ft.EntitySet(id=\"customer_churn\")\n",
    "\n",
    "es.add_dataframe(\n",
    "    dataframe_name=\"customers\",\n",
    "    index=\"customerID\",\n",
    "    time_index=\"ContractStartDate\",\n",
    "    dataframe=X_train,\n",
    ")\n",
    "\n",
    "es.normalize_dataframe(\n",
    "    base_dataframe_name=\"customers\",\n",
    "    new_dataframe_name=\"subscriptions\",\n",
    "    index=\"subscriptionId\",\n",
    ")\n",
    "\n",
    "es.normalize_dataframe(\n",
    "    base_dataframe_name=\"customers\", new_dataframe_name=\"billings\", index=\"billingId\"\n",
    ")"
   ]
  },
  {
   "cell_type": "code",
   "execution_count": null,
   "metadata": {},
   "outputs": [],
   "source": [
    "es.plot()"
   ]
  },
  {
   "cell_type": "code",
   "execution_count": null,
   "metadata": {},
   "outputs": [],
   "source": [
    "feature_matrix, feature_defs = ft.dfs(\n",
    "    entityset=es, target_dataframe_name=\"customers\", max_depth=3\n",
    ")\n",
    "\n",
    "\n"
   ]
  },
  {
   "cell_type": "code",
   "execution_count": null,
   "metadata": {},
   "outputs": [],
   "source": [
    "feature_matrix_enc, features_enc = ft.encode_features(feature_matrix, feature_defs)\n",
    "feature_matrix_enc"
   ]
  },
  {
   "cell_type": "code",
   "execution_count": null,
   "metadata": {},
   "outputs": [],
   "source": [
    "features_enc"
   ]
  },
  {
   "cell_type": "code",
   "execution_count": null,
   "metadata": {},
   "outputs": [],
   "source": [
    "xgb_model = xgb.XGBClassifier(objective=\"binary:logistic\", random_state=42)\n",
    "xgb_model.fit(X_test, y)\n",
    "\n",
    "#y_pred = xgb_model.predict(X)\n",
    "\n",
    "#print(confusion_matrix(y, y_pred))"
   ]
  },
  {
   "cell_type": "code",
   "execution_count": null,
   "metadata": {},
   "outputs": [],
   "source": [
    "np.where(df[\"Churn\"] == 'Yes', 1, 0)"
   ]
  }
 ],
 "metadata": {
  "kernelspec": {
   "display_name": "Python 3.10.6 ('data-science-playbooks-BCpveUor-py3.10')",
   "language": "python",
   "name": "python3"
  },
  "language_info": {
   "codemirror_mode": {
    "name": "ipython",
    "version": 3
   },
   "file_extension": ".py",
   "mimetype": "text/x-python",
   "name": "python",
   "nbconvert_exporter": "python",
   "pygments_lexer": "ipython3",
   "version": "3.10.6"
  },
  "orig_nbformat": 4,
  "vscode": {
   "interpreter": {
    "hash": "bee2308daca9d7493daa3ca6c18986251e2646dc5a84293a86d7cb61b114a88f"
   }
  }
 },
 "nbformat": 4,
 "nbformat_minor": 2
}

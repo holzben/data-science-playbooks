{
 "cells": [
  {
   "cell_type": "code",
   "execution_count": null,
   "metadata": {},
   "outputs": [],
   "source": [
    "import pandas as pd\n",
    "import numpy as np\n",
    "import featuretools as ft\n",
    "from datetime import datetime\n",
    "from dateutil.relativedelta import relativedelta\n"
   ]
  },
  {
   "cell_type": "code",
   "execution_count": null,
   "metadata": {},
   "outputs": [],
   "source": [
    "#https://github.com/IBM/telco-customer-churn-on-icp4d\n",
    "URL_TO_DATA = 'https://raw.githubusercontent.com/IBM/telco-customer-churn-on-icp4d/master/data/Telco-Customer-Churn.csv'\n",
    "\n",
    "CUSTOMERS = ['customerID', 'gender', 'SeniorCitizen', 'Partner', 'Dependents']\n",
    "SUBSCRIPTIONS = ['customerID', 'PhoneService', 'MultipleLines', 'InternetService', 'OnlineSecurity', 'OnlineBackup', 'DeviceProtection', 'TechSupport', 'StreamingTV', 'StreamingMovies']\n",
    " \n",
    "BILLING = [ 'customerID', 'tenure', 'Contract', \n",
    " 'PaperlessBilling',\n",
    " 'PaymentMethod',\n",
    " 'MonthlyCharges',\n",
    " 'TotalCharges',\n",
    " 'Churn']\n",
    "\n",
    "BACK_COUNT_DATE = datetime.datetime(2022,1,1)\n",
    "\n"
   ]
  },
  {
   "cell_type": "markdown",
   "metadata": {},
   "source": [
    "- ft titanic https://www.kaggle.com/code/liananapalkova/automated-feature-engineering-for-titanic-dataset/notebook\n",
    "- the dataset https://github.com/IBM/telco-customer-churn-on-icp4d/blob/master/data/Telco-Customer-Churn.csv\n",
    "\n"
   ]
  },
  {
   "cell_type": "markdown",
   "metadata": {},
   "source": [
    "\n",
    "### Denormalize into \n",
    "- customer_df:      customer_id (PK), subscription_id (FK), gender, SeniorCitizen, Partner, Dependents, tenure, Churn\n",
    "- services_df:      service_id (PK), service_name\n",
    "- subscription_df:  subscription_id (PK), service_id, customer_id\n",
    "- billing_df:       billing_id, Contract, PaperlessBilling, PaymentMethod, MonthlyCharges, TotalCharges\n"
   ]
  },
  {
   "cell_type": "code",
   "execution_count": null,
   "metadata": {},
   "outputs": [],
   "source": [
    "# in case of CERTIFICATE_VERIFY_FAILED run Install Certificates.command\n",
    "# see also https://stackoverflow.com/questions/50236117/scraping-ssl-certificate-verify-failed-error-for-http-en-wikipedia-org\n",
    "df = pd.read_csv(filepath_or_buffer=URL_TO_DATA, index_col=0)"
   ]
  },
  {
   "cell_type": "code",
   "execution_count": null,
   "metadata": {},
   "outputs": [],
   "source": [
    "df.head()"
   ]
  },
  {
   "cell_type": "code",
   "execution_count": null,
   "metadata": {},
   "outputs": [],
   "source": [
    "df.info()"
   ]
  },
  {
   "cell_type": "code",
   "execution_count": null,
   "metadata": {},
   "outputs": [],
   "source": [
    "df.describe(include=\"all\")"
   ]
  },
  {
   "cell_type": "code",
   "execution_count": null,
   "metadata": {},
   "outputs": [],
   "source": [
    "# convert\n",
    "df[\"TotalCharges\"] = pd.to_numeric(df[\"TotalCharges\"], errors=\"coerce\")\n",
    "\n",
    "# generate syntatic time index \n",
    "df['contract_start_date'] = list(map(lambda tenure, dat = BACK_COUNT_DATE: dat - relativedelta(months = -8), df['tenure']))\n"
   ]
  },
  {
   "cell_type": "code",
   "execution_count": null,
   "metadata": {},
   "outputs": [],
   "source": [
    "df_customers = df[CUSTOMERS].copy()\n",
    "df_subscriptions = df[SUBSCRIPTIONS].copy()\n",
    "df_billing = df[BILLING].copy()\n"
   ]
  },
  {
   "cell_type": "code",
   "execution_count": null,
   "metadata": {},
   "outputs": [],
   "source": [
    "dataframes = {\n",
    "    \"customers\": (df_customers, \"customer_id\"),\n",
    "    \"subscriptions\": (df_subscriptions, \"customer_id\", \"customer_id\"),\n",
    "    \"billing\": (df_billing, \"customer_id\", \"customer_id\"),\n",
    "}\n",
    "\n",
    "\n",
    "relationships = [\n",
    "    (\"customers\", \"customer_id\", \"subscriptions\", \"customer_id\"),\n",
    "    (\"subscriptions\", \"customer_id\", \"billing\", \"customer_id\"),\n",
    "]\n",
    "\n",
    "feature_matrix_customers, features_defs = ft.dfs(\n",
    "    dataframes=dataframes,\n",
    "    relationships=relationships,\n",
    "    target_dataframe_name=\"customers\",\n",
    ")\n",
    "feature_matrix_customers"
   ]
  },
  {
   "cell_type": "code",
   "execution_count": null,
   "metadata": {},
   "outputs": [],
   "source": [
    "entity_set = ft.EntitySet(id=\"customer_churn_entities\")\n",
    "\n",
    "# https://featuretools.alteryx.com/en/stable/generated/featuretools.EntitySet.add_dataframe.html#featuretools.EntitySet.add_dataframe\n",
    "entity_set.add_dataframe(\n",
    "    dataframe_name=\"customer_churn\", index=\"customerID\", dataframe=df\n",
    ")"
   ]
  },
  {
   "cell_type": "code",
   "execution_count": null,
   "metadata": {},
   "outputs": [],
   "source": [
    "from datetime import datetime\n",
    "from dateutil.relativedelta import relativedelta\n",
    "\n",
    "import datetime\n",
    "\n",
    "first_day_of_the_month = datetime.date.today().replace(day=1)\n",
    "first_day_of_the_month"
   ]
  },
  {
   "cell_type": "code",
   "execution_count": null,
   "metadata": {},
   "outputs": [],
   "source": [
    "df['contract_start_date'] = list(map(lambda tenure, dat = BACK_COUNT_DATE: dat - relativedelta(months = -8), df['tenure']))\n",
    "\n",
    "\n",
    "\n",
    "#datetime.date.today().replace(day=1) - relativedelta(months = -8)"
   ]
  },
  {
   "cell_type": "code",
   "execution_count": null,
   "metadata": {},
   "outputs": [],
   "source": [
    "df['contract_start_date']"
   ]
  }
 ],
 "metadata": {
  "kernelspec": {
   "display_name": "Python 3.10.6 ('venv': venv)",
   "language": "python",
   "name": "python3"
  },
  "language_info": {
   "codemirror_mode": {
    "name": "ipython",
    "version": 3
   },
   "file_extension": ".py",
   "mimetype": "text/x-python",
   "name": "python",
   "nbconvert_exporter": "python",
   "pygments_lexer": "ipython3",
   "version": "3.10.6"
  },
  "orig_nbformat": 4,
  "vscode": {
   "interpreter": {
    "hash": "b0a073f9c01730d794c3b63845b8047f6b4198001998aee25b0444867a4d54a2"
   }
  }
 },
 "nbformat": 4,
 "nbformat_minor": 2
}

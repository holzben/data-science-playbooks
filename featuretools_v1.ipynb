{
 "cells": [
  {
   "cell_type": "code",
   "execution_count": 2,
   "metadata": {},
   "outputs": [],
   "source": [
    "import pandas as pd\n",
    "import numpy as np\n",
    "\n",
    "import featuretools as ft\n",
    "from featuretools.selection import (\n",
    "    remove_highly_correlated_features,\n",
    "    remove_highly_null_features,\n",
    "    remove_single_value_features,\n",
    ")\n",
    "\n",
    "from datetime import datetime\n",
    "from uuid import uuid4\n",
    "from dateutil.relativedelta import relativedelta\n",
    "from sklearn.model_selection import train_test_split\n",
    "import xgboost as xgb\n",
    "\n",
    "from scipy.stats import uniform, randint\n",
    "\n",
    "\n",
    "from sklearn.pipeline import Pipeline\n",
    "from sklearn.preprocessing import StandardScaler, OneHotEncoder, FunctionTransformer\n",
    "from sklearn.impute import SimpleImputer\n",
    "from sklearn.compose import ColumnTransformer\n",
    "from sklearn.ensemble import RandomForestClassifier\n",
    "from sklearn.base import BaseEstimator, TransformerMixin\n",
    "from typing import List, Any"
   ]
  },
  {
   "cell_type": "code",
   "execution_count": 3,
   "metadata": {},
   "outputs": [],
   "source": [
    "# https://github.com/IBM/telco-customer-churn-on-icp4d\n",
    "URL_TO_DATA = \"https://raw.githubusercontent.com/IBM/telco-customer-churn-on-icp4d/master/data/Telco-Customer-Churn.csv\"\n",
    "\n",
    "\n",
    "BACK_COUNT_DATE = datetime.fromisoformat(\"2022-01-01\")\n",
    "TEST_SIZE = 0.2\n",
    "VALID_SIZE = 0.25\n",
    "RANDOM_STATE = 42\n",
    "NUMERIC_TRANSFORMER_REPLACEMENT = \"median\""
   ]
  },
  {
   "cell_type": "code",
   "execution_count": 21,
   "metadata": {},
   "outputs": [],
   "source": [
    "numeric_features = [\"tenure\", \"MonthlyCharges\", \"TotalCharges\"]\n",
    "numeric_transformer = Pipeline(\n",
    "    steps=[\n",
    "        (\"imputer\", SimpleImputer(strategy=NUMERIC_TRANSFORMER_REPLACEMENT)),\n",
    "        (\"scaler\", StandardScaler()),\n",
    "    ]\n",
    ")"
   ]
  },
  {
   "cell_type": "markdown",
   "metadata": {},
   "source": [
    "- ft titanic https://www.kaggle.com/code/liananapalkova/automated-feature-engineering-for-titanic-dataset/notebook\n",
    "- the dataset https://github.com/IBM/telco-customer-churn-on-icp4d/blob/master/data/Telco-Customer-Churn.csv\n",
    "- titanic https://medium.com/dataexplorations/tool-review-can-featuretools-simplify-the-process-of-feature-engineering-5d165100b0c3\n",
    "- time indexing recomandations https://stackoverflow.com/questions/49711987/how-do-i-prevent-data-leakage-with-featuretools\n",
    "\n"
   ]
  },
  {
   "cell_type": "markdown",
   "metadata": {},
   "source": [
    "\n",
    "### Denormalize into \n",
    "- customer_df:      customer_id (PK), subscription_id (FK), gender, SeniorCitizen, Partner, Dependents, tenure, Churn\n",
    "- services_df:      service_id (PK), service_name\n",
    "- subscription_df:  subscription_id (PK), service_id, customer_id\n",
    "- billing_df:       billing_id, Contract, PaperlessBilling, PaymentMethod, MonthlyCharges, TotalCharges\n"
   ]
  },
  {
   "cell_type": "code",
   "execution_count": 5,
   "metadata": {},
   "outputs": [],
   "source": [
    "# in case of CERTIFICATE_VERIFY_FAILED run Install Certificates.command\n",
    "# see also https://stackoverflow.com/questions/50236117/scraping-ssl-certificate-verify-failed-error-for-http-en-wikipedia-org\n",
    "df = pd.read_csv(filepath_or_buffer=URL_TO_DATA, index_col=0)"
   ]
  },
  {
   "cell_type": "code",
   "execution_count": 6,
   "metadata": {},
   "outputs": [],
   "source": [
    "# convert\n",
    "df[\"TotalCharges\"] = pd.to_numeric(df[\"TotalCharges\"], errors=\"coerce\")\n",
    "\n",
    "# generate syntatic time index\n",
    "df[\"ContractStartDate\"] = list(\n",
    "    map(\n",
    "        lambda tenure, dat=BACK_COUNT_DATE: dat - relativedelta(months=-tenure),\n",
    "        df[\"tenure\"],\n",
    "    )\n",
    ")\n",
    "# df[\"customerID\"] = df.index\n",
    "df[\"billingId\"] = [str(uuid4()) for _ in range(df.shape[0])]\n",
    "df[\"subscriptionId\"] = [str(uuid4()) for _ in range(df.shape[0])]\n",
    "\n",
    "# convert to 1/0\n",
    "df[\"Churn\"] = np.where(df[\"Churn\"] == \"Yes\", 1, 0)"
   ]
  },
  {
   "cell_type": "code",
   "execution_count": 7,
   "metadata": {},
   "outputs": [],
   "source": [
    "y = df[\"Churn\"]\n",
    "X = df.drop(columns=[\"Churn\"])\n",
    "\n",
    "X_train, X_test, y_train, y_test = train_test_split(\n",
    "    X, y, test_size=TEST_SIZE, random_state=RANDOM_STATE\n",
    ")\n",
    "X_train, X_val, y_train, y_val = train_test_split(\n",
    "    X_train, y_train, test_size=VALID_SIZE, random_state=RANDOM_STATE\n",
    ")  # 0.25 x 0.8 = 0.2"
   ]
  },
  {
   "cell_type": "code",
   "execution_count": 8,
   "metadata": {},
   "outputs": [
    {
     "name": "stderr",
     "output_type": "stream",
     "text": [
      "/Users/tara/Library/Caches/pypoetry/virtualenvs/data-science-playbooks-BCpveUor-py3.10/lib/python3.10/site-packages/featuretools/entityset/entityset.py:1906: UserWarning: index customerID not found in dataframe, creating new integer column\n",
      "  warnings.warn(\n"
     ]
    },
    {
     "data": {
      "text/plain": [
       "Entityset: customer_churn\n",
       "  DataFrames:\n",
       "    customers [Rows: 4225, Columns: 23]\n",
       "    subscriptions [Rows: 4225, Columns: 2]\n",
       "    billings [Rows: 4225, Columns: 2]\n",
       "  Relationships:\n",
       "    customers.subscriptionId -> subscriptions.subscriptionId\n",
       "    customers.billingId -> billings.billingId"
      ]
     },
     "execution_count": 8,
     "metadata": {},
     "output_type": "execute_result"
    }
   ],
   "source": [
    "es = ft.EntitySet(id=\"customer_churn\")\n",
    "\n",
    "es.add_dataframe(\n",
    "    dataframe_name=\"customers\",\n",
    "    index=\"customerID\",\n",
    "    time_index=\"ContractStartDate\",\n",
    "    dataframe=X_train,\n",
    ")\n",
    "\n",
    "es.normalize_dataframe(\n",
    "    base_dataframe_name=\"customers\",\n",
    "    new_dataframe_name=\"subscriptions\",\n",
    "    index=\"subscriptionId\",\n",
    ")\n",
    "\n",
    "es.normalize_dataframe(\n",
    "    base_dataframe_name=\"customers\", new_dataframe_name=\"billings\", index=\"billingId\"\n",
    ")"
   ]
  },
  {
   "cell_type": "code",
   "execution_count": 9,
   "metadata": {},
   "outputs": [
    {
     "data": {
      "image/svg+xml": "<?xml version=\"1.0\" encoding=\"UTF-8\" standalone=\"no\"?>\n<!DOCTYPE svg PUBLIC \"-//W3C//DTD SVG 1.1//EN\"\n \"http://www.w3.org/Graphics/SVG/1.1/DTD/svg11.dtd\">\n<!-- Generated by graphviz version 5.0.0 (20220707.1540)\n -->\n<!-- Title: customer_churn Pages: 1 -->\n<svg width=\"552pt\" height=\"483pt\"\n viewBox=\"0.00 0.00 552.00 483.00\" xmlns=\"http://www.w3.org/2000/svg\" xmlns:xlink=\"http://www.w3.org/1999/xlink\">\n<g id=\"graph0\" class=\"graph\" transform=\"scale(1 1) rotate(0) translate(4 479)\">\n<title>customer_churn</title>\n<polygon fill=\"white\" stroke=\"transparent\" points=\"-4,4 -4,-479 548,-479 548,4 -4,4\"/>\n<!-- customers -->\n<g id=\"node1\" class=\"node\">\n<title>customers</title>\n<polygon fill=\"none\" stroke=\"black\" points=\"149,-98.5 149,-474.5 394,-474.5 394,-98.5 149,-98.5\"/>\n<text text-anchor=\"middle\" x=\"271.5\" y=\"-459.3\" font-family=\"Times,serif\" font-size=\"14.00\">customers (4225 rows)</text>\n<polyline fill=\"none\" stroke=\"black\" points=\"149,-451.5 394,-451.5 \"/>\n<text text-anchor=\"start\" x=\"157\" y=\"-436.3\" font-family=\"Times,serif\" font-size=\"14.00\">customerID : Integer; index</text>\n<text text-anchor=\"start\" x=\"157\" y=\"-421.3\" font-family=\"Times,serif\" font-size=\"14.00\">gender : Categorical</text>\n<text text-anchor=\"start\" x=\"157\" y=\"-406.3\" font-family=\"Times,serif\" font-size=\"14.00\">SeniorCitizen : Integer</text>\n<text text-anchor=\"start\" x=\"157\" y=\"-391.3\" font-family=\"Times,serif\" font-size=\"14.00\">Partner : Categorical</text>\n<text text-anchor=\"start\" x=\"157\" y=\"-376.3\" font-family=\"Times,serif\" font-size=\"14.00\">Dependents : Categorical</text>\n<text text-anchor=\"start\" x=\"157\" y=\"-361.3\" font-family=\"Times,serif\" font-size=\"14.00\">tenure : Integer</text>\n<text text-anchor=\"start\" x=\"157\" y=\"-346.3\" font-family=\"Times,serif\" font-size=\"14.00\">PhoneService : Categorical</text>\n<text text-anchor=\"start\" x=\"157\" y=\"-331.3\" font-family=\"Times,serif\" font-size=\"14.00\">MultipleLines : Categorical</text>\n<text text-anchor=\"start\" x=\"157\" y=\"-316.3\" font-family=\"Times,serif\" font-size=\"14.00\">InternetService : Categorical</text>\n<text text-anchor=\"start\" x=\"157\" y=\"-301.3\" font-family=\"Times,serif\" font-size=\"14.00\">OnlineSecurity : Categorical</text>\n<text text-anchor=\"start\" x=\"157\" y=\"-286.3\" font-family=\"Times,serif\" font-size=\"14.00\">OnlineBackup : Categorical</text>\n<text text-anchor=\"start\" x=\"157\" y=\"-271.3\" font-family=\"Times,serif\" font-size=\"14.00\">DeviceProtection : Categorical</text>\n<text text-anchor=\"start\" x=\"157\" y=\"-256.3\" font-family=\"Times,serif\" font-size=\"14.00\">TechSupport : Categorical</text>\n<text text-anchor=\"start\" x=\"157\" y=\"-241.3\" font-family=\"Times,serif\" font-size=\"14.00\">StreamingTV : Categorical</text>\n<text text-anchor=\"start\" x=\"157\" y=\"-226.3\" font-family=\"Times,serif\" font-size=\"14.00\">StreamingMovies : Categorical</text>\n<text text-anchor=\"start\" x=\"157\" y=\"-211.3\" font-family=\"Times,serif\" font-size=\"14.00\">Contract : Categorical</text>\n<text text-anchor=\"start\" x=\"157\" y=\"-196.3\" font-family=\"Times,serif\" font-size=\"14.00\">PaperlessBilling : Categorical</text>\n<text text-anchor=\"start\" x=\"157\" y=\"-181.3\" font-family=\"Times,serif\" font-size=\"14.00\">PaymentMethod : Categorical</text>\n<text text-anchor=\"start\" x=\"157\" y=\"-166.3\" font-family=\"Times,serif\" font-size=\"14.00\">MonthlyCharges : Double</text>\n<text text-anchor=\"start\" x=\"157\" y=\"-151.3\" font-family=\"Times,serif\" font-size=\"14.00\">TotalCharges : Double</text>\n<text text-anchor=\"start\" x=\"157\" y=\"-136.3\" font-family=\"Times,serif\" font-size=\"14.00\">ContractStartDate : Datetime; time_index</text>\n<text text-anchor=\"start\" x=\"157\" y=\"-121.3\" font-family=\"Times,serif\" font-size=\"14.00\">billingId : Unknown; foreign_key</text>\n<text text-anchor=\"start\" x=\"157\" y=\"-106.3\" font-family=\"Times,serif\" font-size=\"14.00\">subscriptionId : Unknown; foreign_key</text>\n</g>\n<!-- subscriptions -->\n<g id=\"node2\" class=\"node\">\n<title>subscriptions</title>\n<polygon fill=\"none\" stroke=\"black\" points=\"0,-0.5 0,-61.5 263,-61.5 263,-0.5 0,-0.5\"/>\n<text text-anchor=\"middle\" x=\"131.5\" y=\"-46.3\" font-family=\"Times,serif\" font-size=\"14.00\">subscriptions (4225 rows)</text>\n<polyline fill=\"none\" stroke=\"black\" points=\"0,-38.5 263,-38.5 \"/>\n<text text-anchor=\"start\" x=\"8\" y=\"-23.3\" font-family=\"Times,serif\" font-size=\"14.00\">subscriptionId : Unknown; index</text>\n<text text-anchor=\"start\" x=\"8\" y=\"-8.3\" font-family=\"Times,serif\" font-size=\"14.00\">first_customers_time : Datetime; time_index</text>\n</g>\n<!-- customers&#45;&gt;subscriptions -->\n<g id=\"edge1\" class=\"edge\">\n<title>customers&#45;&gt;subscriptions</title>\n<path fill=\"none\" stroke=\"black\" d=\"M206,-98.46C206,-98.46 206,-71.57 206,-71.57\"/>\n<polygon fill=\"black\" stroke=\"black\" points=\"209.5,-71.57 206,-61.57 202.5,-71.57 209.5,-71.57\"/>\n<text text-anchor=\"middle\" x=\"167\" y=\"-73.82\" font-family=\"Times,serif\" font-size=\"14.00\">subscriptionId</text>\n</g>\n<!-- billings -->\n<g id=\"node3\" class=\"node\">\n<title>billings</title>\n<polygon fill=\"none\" stroke=\"black\" points=\"281,-0.5 281,-61.5 544,-61.5 544,-0.5 281,-0.5\"/>\n<text text-anchor=\"middle\" x=\"412.5\" y=\"-46.3\" font-family=\"Times,serif\" font-size=\"14.00\">billings (4225 rows)</text>\n<polyline fill=\"none\" stroke=\"black\" points=\"281,-38.5 544,-38.5 \"/>\n<text text-anchor=\"start\" x=\"289\" y=\"-23.3\" font-family=\"Times,serif\" font-size=\"14.00\">billingId : Unknown; index</text>\n<text text-anchor=\"start\" x=\"289\" y=\"-8.3\" font-family=\"Times,serif\" font-size=\"14.00\">first_customers_time : Datetime; time_index</text>\n</g>\n<!-- customers&#45;&gt;billings -->\n<g id=\"edge2\" class=\"edge\">\n<title>customers&#45;&gt;billings</title>\n<path fill=\"none\" stroke=\"black\" d=\"M337.5,-98.46C337.5,-98.46 337.5,-71.57 337.5,-71.57\"/>\n<polygon fill=\"black\" stroke=\"black\" points=\"341,-71.57 337.5,-61.57 334,-71.57 341,-71.57\"/>\n<text text-anchor=\"middle\" x=\"314\" y=\"-73.82\" font-family=\"Times,serif\" font-size=\"14.00\">billingId</text>\n</g>\n</g>\n</svg>\n",
      "text/plain": [
       "<graphviz.graphs.Digraph at 0x112fbe530>"
      ]
     },
     "execution_count": 9,
     "metadata": {},
     "output_type": "execute_result"
    }
   ],
   "source": [
    "es.plot()"
   ]
  },
  {
   "cell_type": "code",
   "execution_count": 10,
   "metadata": {},
   "outputs": [],
   "source": [
    "feature_matrix, feature_defs = ft.dfs(\n",
    "    entityset=es, target_dataframe_name=\"customers\", max_depth=2\n",
    ")"
   ]
  },
  {
   "cell_type": "code",
   "execution_count": 11,
   "metadata": {},
   "outputs": [
    {
     "data": {
      "text/plain": [
       "Index(['SeniorCitizen', 'tenure', 'MonthlyCharges', 'TotalCharges',\n",
       "       'subscriptions.COUNT(customers)',\n",
       "       'subscriptions.MAX(customers.MonthlyCharges)',\n",
       "       'subscriptions.MAX(customers.SeniorCitizen)',\n",
       "       'subscriptions.MAX(customers.TotalCharges)',\n",
       "       'subscriptions.MAX(customers.tenure)',\n",
       "       'subscriptions.MEAN(customers.MonthlyCharges)',\n",
       "       ...\n",
       "       'billings.MONTH(first_customers_time) is unknown',\n",
       "       'billings.WEEKDAY(first_customers_time) = 1',\n",
       "       'billings.WEEKDAY(first_customers_time) = 4',\n",
       "       'billings.WEEKDAY(first_customers_time) = 6',\n",
       "       'billings.WEEKDAY(first_customers_time) = 0',\n",
       "       'billings.WEEKDAY(first_customers_time) = 2',\n",
       "       'billings.WEEKDAY(first_customers_time) = 5',\n",
       "       'billings.WEEKDAY(first_customers_time) is unknown',\n",
       "       'billings.YEAR(first_customers_time) = 2022',\n",
       "       'billings.YEAR(first_customers_time) is unknown'],\n",
       "      dtype='object', length=312)"
      ]
     },
     "execution_count": 11,
     "metadata": {},
     "output_type": "execute_result"
    }
   ],
   "source": [
    "feature_matrix_enc, features_enc = ft.encode_features(feature_matrix, feature_defs)\n",
    "feature_matrix_enc.columns"
   ]
  },
  {
   "cell_type": "code",
   "execution_count": 12,
   "metadata": {},
   "outputs": [],
   "source": [
    "all_features = feature_matrix_enc.columns.to_list()"
   ]
  },
  {
   "cell_type": "code",
   "execution_count": 13,
   "metadata": {},
   "outputs": [
    {
     "data": {
      "text/html": [
       "<style>#sk-container-id-1 {color: black;background-color: white;}#sk-container-id-1 pre{padding: 0;}#sk-container-id-1 div.sk-toggleable {background-color: white;}#sk-container-id-1 label.sk-toggleable__label {cursor: pointer;display: block;width: 100%;margin-bottom: 0;padding: 0.3em;box-sizing: border-box;text-align: center;}#sk-container-id-1 label.sk-toggleable__label-arrow:before {content: \"▸\";float: left;margin-right: 0.25em;color: #696969;}#sk-container-id-1 label.sk-toggleable__label-arrow:hover:before {color: black;}#sk-container-id-1 div.sk-estimator:hover label.sk-toggleable__label-arrow:before {color: black;}#sk-container-id-1 div.sk-toggleable__content {max-height: 0;max-width: 0;overflow: hidden;text-align: left;background-color: #f0f8ff;}#sk-container-id-1 div.sk-toggleable__content pre {margin: 0.2em;color: black;border-radius: 0.25em;background-color: #f0f8ff;}#sk-container-id-1 input.sk-toggleable__control:checked~div.sk-toggleable__content {max-height: 200px;max-width: 100%;overflow: auto;}#sk-container-id-1 input.sk-toggleable__control:checked~label.sk-toggleable__label-arrow:before {content: \"▾\";}#sk-container-id-1 div.sk-estimator input.sk-toggleable__control:checked~label.sk-toggleable__label {background-color: #d4ebff;}#sk-container-id-1 div.sk-label input.sk-toggleable__control:checked~label.sk-toggleable__label {background-color: #d4ebff;}#sk-container-id-1 input.sk-hidden--visually {border: 0;clip: rect(1px 1px 1px 1px);clip: rect(1px, 1px, 1px, 1px);height: 1px;margin: -1px;overflow: hidden;padding: 0;position: absolute;width: 1px;}#sk-container-id-1 div.sk-estimator {font-family: monospace;background-color: #f0f8ff;border: 1px dotted black;border-radius: 0.25em;box-sizing: border-box;margin-bottom: 0.5em;}#sk-container-id-1 div.sk-estimator:hover {background-color: #d4ebff;}#sk-container-id-1 div.sk-parallel-item::after {content: \"\";width: 100%;border-bottom: 1px solid gray;flex-grow: 1;}#sk-container-id-1 div.sk-label:hover label.sk-toggleable__label {background-color: #d4ebff;}#sk-container-id-1 div.sk-serial::before {content: \"\";position: absolute;border-left: 1px solid gray;box-sizing: border-box;top: 0;bottom: 0;left: 50%;z-index: 0;}#sk-container-id-1 div.sk-serial {display: flex;flex-direction: column;align-items: center;background-color: white;padding-right: 0.2em;padding-left: 0.2em;position: relative;}#sk-container-id-1 div.sk-item {position: relative;z-index: 1;}#sk-container-id-1 div.sk-parallel {display: flex;align-items: stretch;justify-content: center;background-color: white;position: relative;}#sk-container-id-1 div.sk-item::before, #sk-container-id-1 div.sk-parallel-item::before {content: \"\";position: absolute;border-left: 1px solid gray;box-sizing: border-box;top: 0;bottom: 0;left: 50%;z-index: -1;}#sk-container-id-1 div.sk-parallel-item {display: flex;flex-direction: column;z-index: 1;position: relative;background-color: white;}#sk-container-id-1 div.sk-parallel-item:first-child::after {align-self: flex-end;width: 50%;}#sk-container-id-1 div.sk-parallel-item:last-child::after {align-self: flex-start;width: 50%;}#sk-container-id-1 div.sk-parallel-item:only-child::after {width: 0;}#sk-container-id-1 div.sk-dashed-wrapped {border: 1px dashed gray;margin: 0 0.4em 0.5em 0.4em;box-sizing: border-box;padding-bottom: 0.4em;background-color: white;}#sk-container-id-1 div.sk-label label {font-family: monospace;font-weight: bold;display: inline-block;line-height: 1.2em;}#sk-container-id-1 div.sk-label-container {text-align: center;}#sk-container-id-1 div.sk-container {/* jupyter's `normalize.less` sets `[hidden] { display: none; }` but bootstrap.min.css set `[hidden] { display: none !important; }` so we also need the `!important` here to be able to override the default hidden behavior on the sphinx rendered scikit-learn.org. See: https://github.com/scikit-learn/scikit-learn/issues/21755 */display: inline-block !important;position: relative;}#sk-container-id-1 div.sk-text-repr-fallback {display: none;}</style><div id=\"sk-container-id-1\" class=\"sk-top-container\"><div class=\"sk-text-repr-fallback\"><pre>ColumnTransformer(transformers=[(&#x27;num&#x27;,\n",
       "                                 Pipeline(steps=[(&#x27;imputer&#x27;,\n",
       "                                                  SimpleImputer(strategy=&#x27;median&#x27;)),\n",
       "                                                 (&#x27;scaler&#x27;, StandardScaler())]),\n",
       "                                 [&#x27;tenure&#x27;, &#x27;MonthlyCharges&#x27;, &#x27;TotalCharges&#x27;]),\n",
       "                                (&#x27;feature_selector&#x27;,\n",
       "                                 Pipeline(steps=[(&#x27;rm_highly_correlated_features&#x27;,\n",
       "                                                  FunctionTransformer(func=&lt;function remove_highly_correlated_features at 0x13886a320&gt;)),\n",
       "                                                 (&#x27;rm_highly_null_featur...\n",
       "                                  &#x27;subscriptions.NUM_UNIQUE(customers.OnlineSecurity)&#x27;,\n",
       "                                  &#x27;subscriptions.NUM_UNIQUE(customers.PaperlessBilling)&#x27;,\n",
       "                                  &#x27;subscriptions.NUM_UNIQUE(customers.Partner)&#x27;,\n",
       "                                  &#x27;subscriptions.NUM_UNIQUE(customers.PaymentMethod)&#x27;,\n",
       "                                  &#x27;subscriptions.NUM_UNIQUE(customers.PhoneService)&#x27;,\n",
       "                                  &#x27;subscriptions.NUM_UNIQUE(customers.StreamingMovies)&#x27;,\n",
       "                                  &#x27;subscriptions.NUM_UNIQUE(customers.StreamingTV)&#x27;, ...])])</pre><b>In a Jupyter environment, please rerun this cell to show the HTML representation or trust the notebook. <br />On GitHub, the HTML representation is unable to render, please try loading this page with nbviewer.org.</b></div><div class=\"sk-container\" hidden><div class=\"sk-item sk-dashed-wrapped\"><div class=\"sk-label-container\"><div class=\"sk-label sk-toggleable\"><input class=\"sk-toggleable__control sk-hidden--visually\" id=\"sk-estimator-id-1\" type=\"checkbox\" ><label for=\"sk-estimator-id-1\" class=\"sk-toggleable__label sk-toggleable__label-arrow\">ColumnTransformer</label><div class=\"sk-toggleable__content\"><pre>ColumnTransformer(transformers=[(&#x27;num&#x27;,\n",
       "                                 Pipeline(steps=[(&#x27;imputer&#x27;,\n",
       "                                                  SimpleImputer(strategy=&#x27;median&#x27;)),\n",
       "                                                 (&#x27;scaler&#x27;, StandardScaler())]),\n",
       "                                 [&#x27;tenure&#x27;, &#x27;MonthlyCharges&#x27;, &#x27;TotalCharges&#x27;]),\n",
       "                                (&#x27;feature_selector&#x27;,\n",
       "                                 Pipeline(steps=[(&#x27;rm_highly_correlated_features&#x27;,\n",
       "                                                  FunctionTransformer(func=&lt;function remove_highly_correlated_features at 0x13886a320&gt;)),\n",
       "                                                 (&#x27;rm_highly_null_featur...\n",
       "                                  &#x27;subscriptions.NUM_UNIQUE(customers.OnlineSecurity)&#x27;,\n",
       "                                  &#x27;subscriptions.NUM_UNIQUE(customers.PaperlessBilling)&#x27;,\n",
       "                                  &#x27;subscriptions.NUM_UNIQUE(customers.Partner)&#x27;,\n",
       "                                  &#x27;subscriptions.NUM_UNIQUE(customers.PaymentMethod)&#x27;,\n",
       "                                  &#x27;subscriptions.NUM_UNIQUE(customers.PhoneService)&#x27;,\n",
       "                                  &#x27;subscriptions.NUM_UNIQUE(customers.StreamingMovies)&#x27;,\n",
       "                                  &#x27;subscriptions.NUM_UNIQUE(customers.StreamingTV)&#x27;, ...])])</pre></div></div></div><div class=\"sk-parallel\"><div class=\"sk-parallel-item\"><div class=\"sk-item\"><div class=\"sk-label-container\"><div class=\"sk-label sk-toggleable\"><input class=\"sk-toggleable__control sk-hidden--visually\" id=\"sk-estimator-id-2\" type=\"checkbox\" ><label for=\"sk-estimator-id-2\" class=\"sk-toggleable__label sk-toggleable__label-arrow\">num</label><div class=\"sk-toggleable__content\"><pre>[&#x27;tenure&#x27;, &#x27;MonthlyCharges&#x27;, &#x27;TotalCharges&#x27;]</pre></div></div></div><div class=\"sk-serial\"><div class=\"sk-item\"><div class=\"sk-serial\"><div class=\"sk-item\"><div class=\"sk-estimator sk-toggleable\"><input class=\"sk-toggleable__control sk-hidden--visually\" id=\"sk-estimator-id-3\" type=\"checkbox\" ><label for=\"sk-estimator-id-3\" class=\"sk-toggleable__label sk-toggleable__label-arrow\">SimpleImputer</label><div class=\"sk-toggleable__content\"><pre>SimpleImputer(strategy=&#x27;median&#x27;)</pre></div></div></div><div class=\"sk-item\"><div class=\"sk-estimator sk-toggleable\"><input class=\"sk-toggleable__control sk-hidden--visually\" id=\"sk-estimator-id-4\" type=\"checkbox\" ><label for=\"sk-estimator-id-4\" class=\"sk-toggleable__label sk-toggleable__label-arrow\">StandardScaler</label><div class=\"sk-toggleable__content\"><pre>StandardScaler()</pre></div></div></div></div></div></div></div></div><div class=\"sk-parallel-item\"><div class=\"sk-item\"><div class=\"sk-label-container\"><div class=\"sk-label sk-toggleable\"><input class=\"sk-toggleable__control sk-hidden--visually\" id=\"sk-estimator-id-5\" type=\"checkbox\" ><label for=\"sk-estimator-id-5\" class=\"sk-toggleable__label sk-toggleable__label-arrow\">feature_selector</label><div class=\"sk-toggleable__content\"><pre>[&#x27;SeniorCitizen&#x27;, &#x27;tenure&#x27;, &#x27;MonthlyCharges&#x27;, &#x27;TotalCharges&#x27;, &#x27;subscriptions.COUNT(customers)&#x27;, &#x27;subscriptions.MAX(customers.MonthlyCharges)&#x27;, &#x27;subscriptions.MAX(customers.SeniorCitizen)&#x27;, &#x27;subscriptions.MAX(customers.TotalCharges)&#x27;, &#x27;subscriptions.MAX(customers.tenure)&#x27;, &#x27;subscriptions.MEAN(customers.MonthlyCharges)&#x27;, &#x27;subscriptions.MEAN(customers.SeniorCitizen)&#x27;, &#x27;subscriptions.MEAN(customers.TotalCharges)&#x27;, &#x27;subscriptions.MEAN(customers.tenure)&#x27;, &#x27;subscriptions.MIN(customers.MonthlyCharges)&#x27;, &#x27;subscriptions.MIN(customers.SeniorCitizen)&#x27;, &#x27;subscriptions.MIN(customers.TotalCharges)&#x27;, &#x27;subscriptions.MIN(customers.tenure)&#x27;, &#x27;subscriptions.NUM_UNIQUE(customers.Contract)&#x27;, &#x27;subscriptions.NUM_UNIQUE(customers.Dependents)&#x27;, &#x27;subscriptions.NUM_UNIQUE(customers.DeviceProtection)&#x27;, &#x27;subscriptions.NUM_UNIQUE(customers.InternetService)&#x27;, &#x27;subscriptions.NUM_UNIQUE(customers.MultipleLines)&#x27;, &#x27;subscriptions.NUM_UNIQUE(customers.OnlineBackup)&#x27;, &#x27;subscriptions.NUM_UNIQUE(customers.OnlineSecurity)&#x27;, &#x27;subscriptions.NUM_UNIQUE(customers.PaperlessBilling)&#x27;, &#x27;subscriptions.NUM_UNIQUE(customers.Partner)&#x27;, &#x27;subscriptions.NUM_UNIQUE(customers.PaymentMethod)&#x27;, &#x27;subscriptions.NUM_UNIQUE(customers.PhoneService)&#x27;, &#x27;subscriptions.NUM_UNIQUE(customers.StreamingMovies)&#x27;, &#x27;subscriptions.NUM_UNIQUE(customers.StreamingTV)&#x27;, &#x27;subscriptions.NUM_UNIQUE(customers.TechSupport)&#x27;, &#x27;subscriptions.NUM_UNIQUE(customers.gender)&#x27;, &#x27;subscriptions.SKEW(customers.MonthlyCharges)&#x27;, &#x27;subscriptions.SKEW(customers.SeniorCitizen)&#x27;, &#x27;subscriptions.SKEW(customers.TotalCharges)&#x27;, &#x27;subscriptions.SKEW(customers.tenure)&#x27;, &#x27;subscriptions.STD(customers.MonthlyCharges)&#x27;, &#x27;subscriptions.STD(customers.SeniorCitizen)&#x27;, &#x27;subscriptions.STD(customers.TotalCharges)&#x27;, &#x27;subscriptions.STD(customers.tenure)&#x27;, &#x27;subscriptions.SUM(customers.MonthlyCharges)&#x27;, &#x27;subscriptions.SUM(customers.SeniorCitizen)&#x27;, &#x27;subscriptions.SUM(customers.TotalCharges)&#x27;, &#x27;subscriptions.SUM(customers.tenure)&#x27;, &#x27;billings.COUNT(customers)&#x27;, &#x27;billings.MAX(customers.MonthlyCharges)&#x27;, &#x27;billings.MAX(customers.SeniorCitizen)&#x27;, &#x27;billings.MAX(customers.TotalCharges)&#x27;, &#x27;billings.MAX(customers.tenure)&#x27;, &#x27;billings.MEAN(customers.MonthlyCharges)&#x27;, &#x27;billings.MEAN(customers.SeniorCitizen)&#x27;, &#x27;billings.MEAN(customers.TotalCharges)&#x27;, &#x27;billings.MEAN(customers.tenure)&#x27;, &#x27;billings.MIN(customers.MonthlyCharges)&#x27;, &#x27;billings.MIN(customers.SeniorCitizen)&#x27;, &#x27;billings.MIN(customers.TotalCharges)&#x27;, &#x27;billings.MIN(customers.tenure)&#x27;, &#x27;billings.NUM_UNIQUE(customers.Contract)&#x27;, &#x27;billings.NUM_UNIQUE(customers.Dependents)&#x27;, &#x27;billings.NUM_UNIQUE(customers.DeviceProtection)&#x27;, &#x27;billings.NUM_UNIQUE(customers.InternetService)&#x27;, &#x27;billings.NUM_UNIQUE(customers.MultipleLines)&#x27;, &#x27;billings.NUM_UNIQUE(customers.OnlineBackup)&#x27;, &#x27;billings.NUM_UNIQUE(customers.OnlineSecurity)&#x27;, &#x27;billings.NUM_UNIQUE(customers.PaperlessBilling)&#x27;, &#x27;billings.NUM_UNIQUE(customers.Partner)&#x27;, &#x27;billings.NUM_UNIQUE(customers.PaymentMethod)&#x27;, &#x27;billings.NUM_UNIQUE(customers.PhoneService)&#x27;, &#x27;billings.NUM_UNIQUE(customers.StreamingMovies)&#x27;, &#x27;billings.NUM_UNIQUE(customers.StreamingTV)&#x27;, &#x27;billings.NUM_UNIQUE(customers.TechSupport)&#x27;, &#x27;billings.NUM_UNIQUE(customers.gender)&#x27;, &#x27;billings.SKEW(customers.MonthlyCharges)&#x27;, &#x27;billings.SKEW(customers.SeniorCitizen)&#x27;, &#x27;billings.SKEW(customers.TotalCharges)&#x27;, &#x27;billings.SKEW(customers.tenure)&#x27;, &#x27;billings.STD(customers.MonthlyCharges)&#x27;, &#x27;billings.STD(customers.SeniorCitizen)&#x27;, &#x27;billings.STD(customers.TotalCharges)&#x27;, &#x27;billings.STD(customers.tenure)&#x27;, &#x27;billings.SUM(customers.MonthlyCharges)&#x27;, &#x27;billings.SUM(customers.SeniorCitizen)&#x27;, &#x27;billings.SUM(customers.TotalCharges)&#x27;, &#x27;billings.SUM(customers.tenure)&#x27;, &#x27;gender = Male&#x27;, &#x27;gender = Female&#x27;, &#x27;gender is unknown&#x27;, &#x27;Partner = No&#x27;, &#x27;Partner = Yes&#x27;, &#x27;Partner is unknown&#x27;, &#x27;Dependents = No&#x27;, &#x27;Dependents = Yes&#x27;, &#x27;Dependents is unknown&#x27;, &#x27;PhoneService = Yes&#x27;, &#x27;PhoneService = No&#x27;, &#x27;PhoneService is unknown&#x27;, &#x27;MultipleLines = No&#x27;, &#x27;MultipleLines = Yes&#x27;, &#x27;MultipleLines = No phone service&#x27;, &#x27;MultipleLines is unknown&#x27;, &#x27;InternetService = Fiber optic&#x27;, &#x27;InternetService = DSL&#x27;, &#x27;InternetService = No&#x27;, &#x27;InternetService is unknown&#x27;, &#x27;OnlineSecurity = No&#x27;, &#x27;OnlineSecurity = No internet service&#x27;, &#x27;OnlineSecurity = Yes&#x27;, &#x27;OnlineSecurity is unknown&#x27;, &#x27;OnlineBackup = No&#x27;, &#x27;OnlineBackup = No internet service&#x27;, &#x27;OnlineBackup = Yes&#x27;, &#x27;OnlineBackup is unknown&#x27;, &#x27;DeviceProtection = No&#x27;, &#x27;DeviceProtection = No internet service&#x27;, &#x27;DeviceProtection = Yes&#x27;, &#x27;DeviceProtection is unknown&#x27;, &#x27;TechSupport = No&#x27;, &#x27;TechSupport = No internet service&#x27;, &#x27;TechSupport = Yes&#x27;, &#x27;TechSupport is unknown&#x27;, &#x27;StreamingTV = No&#x27;, &#x27;StreamingTV = No internet service&#x27;, &#x27;StreamingTV = Yes&#x27;, &#x27;StreamingTV is unknown&#x27;, &#x27;StreamingMovies = No&#x27;, &#x27;StreamingMovies = No internet service&#x27;, &#x27;StreamingMovies = Yes&#x27;, &#x27;StreamingMovies is unknown&#x27;, &#x27;Contract = Month-to-month&#x27;, &#x27;Contract = One year&#x27;, &#x27;Contract = Two year&#x27;, &#x27;Contract is unknown&#x27;, &#x27;PaperlessBilling = Yes&#x27;, &#x27;PaperlessBilling = No&#x27;, &#x27;PaperlessBilling is unknown&#x27;, &#x27;PaymentMethod = Electronic check&#x27;, &#x27;PaymentMethod = Mailed check&#x27;, &#x27;PaymentMethod = Bank transfer (automatic)&#x27;, &#x27;PaymentMethod = Credit card (automatic)&#x27;, &#x27;PaymentMethod is unknown&#x27;, &#x27;DAY(ContractStartDate) = 1&#x27;, &#x27;DAY(ContractStartDate) is unknown&#x27;, &#x27;MONTH(ContractStartDate) = 2&#x27;, &#x27;MONTH(ContractStartDate) = 3&#x27;, &#x27;MONTH(ContractStartDate) = 4&#x27;, &#x27;MONTH(ContractStartDate) = 5&#x27;, &#x27;MONTH(ContractStartDate) = 8&#x27;, &#x27;MONTH(ContractStartDate) = 6&#x27;, &#x27;MONTH(ContractStartDate) = 7&#x27;, &#x27;MONTH(ContractStartDate) = 1&#x27;, &#x27;MONTH(ContractStartDate) is unknown&#x27;, &#x27;WEEKDAY(ContractStartDate) = 1&#x27;, &#x27;WEEKDAY(ContractStartDate) = 4&#x27;, &#x27;WEEKDAY(ContractStartDate) = 6&#x27;, &#x27;WEEKDAY(ContractStartDate) = 0&#x27;, &#x27;WEEKDAY(ContractStartDate) = 2&#x27;, &#x27;WEEKDAY(ContractStartDate) = 5&#x27;, &#x27;WEEKDAY(ContractStartDate) is unknown&#x27;, &#x27;YEAR(ContractStartDate) = 2022&#x27;, &#x27;YEAR(ContractStartDate) is unknown&#x27;, &#x27;subscriptions.MODE(customers.Contract) = Month-to-month&#x27;, &#x27;subscriptions.MODE(customers.Contract) = One year&#x27;, &#x27;subscriptions.MODE(customers.Contract) = Two year&#x27;, &#x27;subscriptions.MODE(customers.Contract) is unknown&#x27;, &#x27;subscriptions.MODE(customers.Dependents) = No&#x27;, &#x27;subscriptions.MODE(customers.Dependents) = Yes&#x27;, &#x27;subscriptions.MODE(customers.Dependents) is unknown&#x27;, &#x27;subscriptions.MODE(customers.DeviceProtection) = No&#x27;, &#x27;subscriptions.MODE(customers.DeviceProtection) = No internet service&#x27;, &#x27;subscriptions.MODE(customers.DeviceProtection) = Yes&#x27;, &#x27;subscriptions.MODE(customers.DeviceProtection) is unknown&#x27;, &#x27;subscriptions.MODE(customers.InternetService) = Fiber optic&#x27;, &#x27;subscriptions.MODE(customers.InternetService) = DSL&#x27;, &#x27;subscriptions.MODE(customers.InternetService) = No&#x27;, &#x27;subscriptions.MODE(customers.InternetService) is unknown&#x27;, &#x27;subscriptions.MODE(customers.MultipleLines) = No&#x27;, &#x27;subscriptions.MODE(customers.MultipleLines) = Yes&#x27;, &#x27;subscriptions.MODE(customers.MultipleLines) = No phone service&#x27;, &#x27;subscriptions.MODE(customers.MultipleLines) is unknown&#x27;, &#x27;subscriptions.MODE(customers.OnlineBackup) = No&#x27;, &#x27;subscriptions.MODE(customers.OnlineBackup) = No internet service&#x27;, &#x27;subscriptions.MODE(customers.OnlineBackup) = Yes&#x27;, &#x27;subscriptions.MODE(customers.OnlineBackup) is unknown&#x27;, &#x27;subscriptions.MODE(customers.OnlineSecurity) = No&#x27;, &#x27;subscriptions.MODE(customers.OnlineSecurity) = No internet service&#x27;, &#x27;subscriptions.MODE(customers.OnlineSecurity) = Yes&#x27;, &#x27;subscriptions.MODE(customers.OnlineSecurity) is unknown&#x27;, &#x27;subscriptions.MODE(customers.PaperlessBilling) = Yes&#x27;, &#x27;subscriptions.MODE(customers.PaperlessBilling) = No&#x27;, &#x27;subscriptions.MODE(customers.PaperlessBilling) is unknown&#x27;, &#x27;subscriptions.MODE(customers.Partner) = No&#x27;, &#x27;subscriptions.MODE(customers.Partner) = Yes&#x27;, &#x27;subscriptions.MODE(customers.Partner) is unknown&#x27;, &#x27;subscriptions.MODE(customers.PaymentMethod) = Electronic check&#x27;, &#x27;subscriptions.MODE(customers.PaymentMethod) = Mailed check&#x27;, &#x27;subscriptions.MODE(customers.PaymentMethod) = Bank transfer (automatic)&#x27;, &#x27;subscriptions.MODE(customers.PaymentMethod) = Credit card (automatic)&#x27;, &#x27;subscriptions.MODE(customers.PaymentMethod) is unknown&#x27;, &#x27;subscriptions.MODE(customers.PhoneService) = Yes&#x27;, &#x27;subscriptions.MODE(customers.PhoneService) = No&#x27;, &#x27;subscriptions.MODE(customers.PhoneService) is unknown&#x27;, &#x27;subscriptions.MODE(customers.StreamingMovies) = No&#x27;, &#x27;subscriptions.MODE(customers.StreamingMovies) = No internet service&#x27;, &#x27;subscriptions.MODE(customers.StreamingMovies) = Yes&#x27;, &#x27;subscriptions.MODE(customers.StreamingMovies) is unknown&#x27;, &#x27;subscriptions.MODE(customers.StreamingTV) = No&#x27;, &#x27;subscriptions.MODE(customers.StreamingTV) = No internet service&#x27;, &#x27;subscriptions.MODE(customers.StreamingTV) = Yes&#x27;, &#x27;subscriptions.MODE(customers.StreamingTV) is unknown&#x27;, &#x27;subscriptions.MODE(customers.TechSupport) = No&#x27;, &#x27;subscriptions.MODE(customers.TechSupport) = No internet service&#x27;, &#x27;subscriptions.MODE(customers.TechSupport) = Yes&#x27;, &#x27;subscriptions.MODE(customers.TechSupport) is unknown&#x27;, &#x27;subscriptions.MODE(customers.gender) = Male&#x27;, &#x27;subscriptions.MODE(customers.gender) = Female&#x27;, &#x27;subscriptions.MODE(customers.gender) is unknown&#x27;, &#x27;subscriptions.DAY(first_customers_time) = 1&#x27;, &#x27;subscriptions.DAY(first_customers_time) is unknown&#x27;, &#x27;subscriptions.MONTH(first_customers_time) = 2&#x27;, &#x27;subscriptions.MONTH(first_customers_time) = 3&#x27;, &#x27;subscriptions.MONTH(first_customers_time) = 4&#x27;, &#x27;subscriptions.MONTH(first_customers_time) = 5&#x27;, &#x27;subscriptions.MONTH(first_customers_time) = 8&#x27;, &#x27;subscriptions.MONTH(first_customers_time) = 6&#x27;, &#x27;subscriptions.MONTH(first_customers_time) = 7&#x27;, &#x27;subscriptions.MONTH(first_customers_time) = 1&#x27;, &#x27;subscriptions.MONTH(first_customers_time) is unknown&#x27;, &#x27;subscriptions.WEEKDAY(first_customers_time) = 1&#x27;, &#x27;subscriptions.WEEKDAY(first_customers_time) = 4&#x27;, &#x27;subscriptions.WEEKDAY(first_customers_time) = 6&#x27;, &#x27;subscriptions.WEEKDAY(first_customers_time) = 0&#x27;, &#x27;subscriptions.WEEKDAY(first_customers_time) = 2&#x27;, &#x27;subscriptions.WEEKDAY(first_customers_time) = 5&#x27;, &#x27;subscriptions.WEEKDAY(first_customers_time) is unknown&#x27;, &#x27;subscriptions.YEAR(first_customers_time) = 2022&#x27;, &#x27;subscriptions.YEAR(first_customers_time) is unknown&#x27;, &#x27;billings.MODE(customers.Contract) = Month-to-month&#x27;, &#x27;billings.MODE(customers.Contract) = One year&#x27;, &#x27;billings.MODE(customers.Contract) = Two year&#x27;, &#x27;billings.MODE(customers.Contract) is unknown&#x27;, &#x27;billings.MODE(customers.Dependents) = No&#x27;, &#x27;billings.MODE(customers.Dependents) = Yes&#x27;, &#x27;billings.MODE(customers.Dependents) is unknown&#x27;, &#x27;billings.MODE(customers.DeviceProtection) = No&#x27;, &#x27;billings.MODE(customers.DeviceProtection) = No internet service&#x27;, &#x27;billings.MODE(customers.DeviceProtection) = Yes&#x27;, &#x27;billings.MODE(customers.DeviceProtection) is unknown&#x27;, &#x27;billings.MODE(customers.InternetService) = Fiber optic&#x27;, &#x27;billings.MODE(customers.InternetService) = DSL&#x27;, &#x27;billings.MODE(customers.InternetService) = No&#x27;, &#x27;billings.MODE(customers.InternetService) is unknown&#x27;, &#x27;billings.MODE(customers.MultipleLines) = No&#x27;, &#x27;billings.MODE(customers.MultipleLines) = Yes&#x27;, &#x27;billings.MODE(customers.MultipleLines) = No phone service&#x27;, &#x27;billings.MODE(customers.MultipleLines) is unknown&#x27;, &#x27;billings.MODE(customers.OnlineBackup) = No&#x27;, &#x27;billings.MODE(customers.OnlineBackup) = No internet service&#x27;, &#x27;billings.MODE(customers.OnlineBackup) = Yes&#x27;, &#x27;billings.MODE(customers.OnlineBackup) is unknown&#x27;, &#x27;billings.MODE(customers.OnlineSecurity) = No&#x27;, &#x27;billings.MODE(customers.OnlineSecurity) = No internet service&#x27;, &#x27;billings.MODE(customers.OnlineSecurity) = Yes&#x27;, &#x27;billings.MODE(customers.OnlineSecurity) is unknown&#x27;, &#x27;billings.MODE(customers.PaperlessBilling) = Yes&#x27;, &#x27;billings.MODE(customers.PaperlessBilling) = No&#x27;, &#x27;billings.MODE(customers.PaperlessBilling) is unknown&#x27;, &#x27;billings.MODE(customers.Partner) = No&#x27;, &#x27;billings.MODE(customers.Partner) = Yes&#x27;, &#x27;billings.MODE(customers.Partner) is unknown&#x27;, &#x27;billings.MODE(customers.PaymentMethod) = Electronic check&#x27;, &#x27;billings.MODE(customers.PaymentMethod) = Mailed check&#x27;, &#x27;billings.MODE(customers.PaymentMethod) = Bank transfer (automatic)&#x27;, &#x27;billings.MODE(customers.PaymentMethod) = Credit card (automatic)&#x27;, &#x27;billings.MODE(customers.PaymentMethod) is unknown&#x27;, &#x27;billings.MODE(customers.PhoneService) = Yes&#x27;, &#x27;billings.MODE(customers.PhoneService) = No&#x27;, &#x27;billings.MODE(customers.PhoneService) is unknown&#x27;, &#x27;billings.MODE(customers.StreamingMovies) = No&#x27;, &#x27;billings.MODE(customers.StreamingMovies) = No internet service&#x27;, &#x27;billings.MODE(customers.StreamingMovies) = Yes&#x27;, &#x27;billings.MODE(customers.StreamingMovies) is unknown&#x27;, &#x27;billings.MODE(customers.StreamingTV) = No&#x27;, &#x27;billings.MODE(customers.StreamingTV) = No internet service&#x27;, &#x27;billings.MODE(customers.StreamingTV) = Yes&#x27;, &#x27;billings.MODE(customers.StreamingTV) is unknown&#x27;, &#x27;billings.MODE(customers.TechSupport) = No&#x27;, &#x27;billings.MODE(customers.TechSupport) = No internet service&#x27;, &#x27;billings.MODE(customers.TechSupport) = Yes&#x27;, &#x27;billings.MODE(customers.TechSupport) is unknown&#x27;, &#x27;billings.MODE(customers.gender) = Male&#x27;, &#x27;billings.MODE(customers.gender) = Female&#x27;, &#x27;billings.MODE(customers.gender) is unknown&#x27;, &#x27;billings.DAY(first_customers_time) = 1&#x27;, &#x27;billings.DAY(first_customers_time) is unknown&#x27;, &#x27;billings.MONTH(first_customers_time) = 2&#x27;, &#x27;billings.MONTH(first_customers_time) = 3&#x27;, &#x27;billings.MONTH(first_customers_time) = 4&#x27;, &#x27;billings.MONTH(first_customers_time) = 5&#x27;, &#x27;billings.MONTH(first_customers_time) = 8&#x27;, &#x27;billings.MONTH(first_customers_time) = 6&#x27;, &#x27;billings.MONTH(first_customers_time) = 7&#x27;, &#x27;billings.MONTH(first_customers_time) = 1&#x27;, &#x27;billings.MONTH(first_customers_time) is unknown&#x27;, &#x27;billings.WEEKDAY(first_customers_time) = 1&#x27;, &#x27;billings.WEEKDAY(first_customers_time) = 4&#x27;, &#x27;billings.WEEKDAY(first_customers_time) = 6&#x27;, &#x27;billings.WEEKDAY(first_customers_time) = 0&#x27;, &#x27;billings.WEEKDAY(first_customers_time) = 2&#x27;, &#x27;billings.WEEKDAY(first_customers_time) = 5&#x27;, &#x27;billings.WEEKDAY(first_customers_time) is unknown&#x27;, &#x27;billings.YEAR(first_customers_time) = 2022&#x27;, &#x27;billings.YEAR(first_customers_time) is unknown&#x27;]</pre></div></div></div><div class=\"sk-serial\"><div class=\"sk-item\"><div class=\"sk-serial\"><div class=\"sk-item\"><div class=\"sk-estimator sk-toggleable\"><input class=\"sk-toggleable__control sk-hidden--visually\" id=\"sk-estimator-id-6\" type=\"checkbox\" ><label for=\"sk-estimator-id-6\" class=\"sk-toggleable__label sk-toggleable__label-arrow\">FunctionTransformer</label><div class=\"sk-toggleable__content\"><pre>FunctionTransformer(func=&lt;function remove_highly_correlated_features at 0x13886a320&gt;)</pre></div></div></div><div class=\"sk-item\"><div class=\"sk-estimator sk-toggleable\"><input class=\"sk-toggleable__control sk-hidden--visually\" id=\"sk-estimator-id-7\" type=\"checkbox\" ><label for=\"sk-estimator-id-7\" class=\"sk-toggleable__label sk-toggleable__label-arrow\">FunctionTransformer</label><div class=\"sk-toggleable__content\"><pre>FunctionTransformer(func=&lt;function remove_highly_null_features at 0x13886a200&gt;)</pre></div></div></div><div class=\"sk-item\"><div class=\"sk-estimator sk-toggleable\"><input class=\"sk-toggleable__control sk-hidden--visually\" id=\"sk-estimator-id-8\" type=\"checkbox\" ><label for=\"sk-estimator-id-8\" class=\"sk-toggleable__label sk-toggleable__label-arrow\">FunctionTransformer</label><div class=\"sk-toggleable__content\"><pre>FunctionTransformer(func=&lt;function remove_single_value_features at 0x13886a290&gt;)</pre></div></div></div></div></div></div></div></div></div></div></div></div>"
      ],
      "text/plain": [
       "ColumnTransformer(transformers=[('num',\n",
       "                                 Pipeline(steps=[('imputer',\n",
       "                                                  SimpleImputer(strategy='median')),\n",
       "                                                 ('scaler', StandardScaler())]),\n",
       "                                 ['tenure', 'MonthlyCharges', 'TotalCharges']),\n",
       "                                ('feature_selector',\n",
       "                                 Pipeline(steps=[('rm_highly_correlated_features',\n",
       "                                                  FunctionTransformer(func=<function remove_highly_correlated_features at 0x13886a320>)),\n",
       "                                                 ('rm_highly_null_featur...\n",
       "                                  'subscriptions.NUM_UNIQUE(customers.OnlineSecurity)',\n",
       "                                  'subscriptions.NUM_UNIQUE(customers.PaperlessBilling)',\n",
       "                                  'subscriptions.NUM_UNIQUE(customers.Partner)',\n",
       "                                  'subscriptions.NUM_UNIQUE(customers.PaymentMethod)',\n",
       "                                  'subscriptions.NUM_UNIQUE(customers.PhoneService)',\n",
       "                                  'subscriptions.NUM_UNIQUE(customers.StreamingMovies)',\n",
       "                                  'subscriptions.NUM_UNIQUE(customers.StreamingTV)', ...])])"
      ]
     },
     "execution_count": 13,
     "metadata": {},
     "output_type": "execute_result"
    }
   ],
   "source": [
    "numeric_transformer = Pipeline(\n",
    "    steps=[\n",
    "        (\"imputer\", SimpleImputer(strategy=NUMERIC_TRANSFORMER_REPLACEMENT)),\n",
    "        (\"scaler\", StandardScaler()),\n",
    "    ]\n",
    ")\n",
    "\n",
    "feature_selector = Pipeline(\n",
    "    steps=[\n",
    "        (\n",
    "            \"rm_highly_correlated_features\",\n",
    "            FunctionTransformer(remove_highly_correlated_features),\n",
    "        ),\n",
    "        (\n",
    "            \"rm_highly_null_features\",\n",
    "            FunctionTransformer(remove_highly_null_features),\n",
    "        ),\n",
    "        (\n",
    "            \"rm_single_value_features\",\n",
    "            FunctionTransformer(remove_single_value_features),\n",
    "        ),\n",
    "    ]\n",
    ")\n",
    "\n",
    "preprocessor = ColumnTransformer(\n",
    "    transformers=[\n",
    "        (\"num\", numeric_transformer, numeric_features),\n",
    "        (\"feature_selector\", feature_selector, all_features),\n",
    "    ]\n",
    ")\n",
    "preprocessor"
   ]
  },
  {
   "cell_type": "code",
   "execution_count": 23,
   "metadata": {},
   "outputs": [
    {
     "ename": "ValueError",
     "evalue": "Found input variables with inconsistent numbers of samples: [936, 4225]",
     "output_type": "error",
     "traceback": [
      "\u001b[0;31m---------------------------------------------------------------------------\u001b[0m",
      "\u001b[0;31mValueError\u001b[0m                                Traceback (most recent call last)",
      "\u001b[0;32m/var/folders/rj/8ly58ghs4b5gh1xdc17nsdf40000gn/T/ipykernel_943/1602227776.py\u001b[0m in \u001b[0;36m<cell line: 10>\u001b[0;34m()\u001b[0m\n\u001b[1;32m      8\u001b[0m )\n\u001b[1;32m      9\u001b[0m \u001b[0;34m\u001b[0m\u001b[0m\n\u001b[0;32m---> 10\u001b[0;31m \u001b[0mclf\u001b[0m\u001b[0;34m.\u001b[0m\u001b[0mfit\u001b[0m\u001b[0;34m(\u001b[0m\u001b[0mfeature_matrix_enc\u001b[0m\u001b[0;34m,\u001b[0m \u001b[0my_train\u001b[0m\u001b[0;34m)\u001b[0m\u001b[0;34m\u001b[0m\u001b[0;34m\u001b[0m\u001b[0m\n\u001b[0m\u001b[1;32m     11\u001b[0m \u001b[0mprint\u001b[0m\u001b[0;34m(\u001b[0m\u001b[0;34m\"model score: %.3f\"\u001b[0m \u001b[0;34m%\u001b[0m \u001b[0mclf\u001b[0m\u001b[0;34m.\u001b[0m\u001b[0mscore\u001b[0m\u001b[0;34m(\u001b[0m\u001b[0mX_val\u001b[0m\u001b[0;34m,\u001b[0m \u001b[0my_val\u001b[0m\u001b[0;34m)\u001b[0m\u001b[0;34m)\u001b[0m\u001b[0;34m\u001b[0m\u001b[0;34m\u001b[0m\u001b[0m\n\u001b[1;32m     12\u001b[0m \u001b[0mprint\u001b[0m\u001b[0;34m(\u001b[0m\u001b[0;34m\"model score: %.3f\"\u001b[0m \u001b[0;34m%\u001b[0m \u001b[0mclf\u001b[0m\u001b[0;34m.\u001b[0m\u001b[0mscore\u001b[0m\u001b[0;34m(\u001b[0m\u001b[0mX_test\u001b[0m\u001b[0;34m,\u001b[0m \u001b[0my_test\u001b[0m\u001b[0;34m)\u001b[0m\u001b[0;34m)\u001b[0m\u001b[0;34m\u001b[0m\u001b[0;34m\u001b[0m\u001b[0m\n",
      "\u001b[0;32m~/Library/Caches/pypoetry/virtualenvs/data-science-playbooks-BCpveUor-py3.10/lib/python3.10/site-packages/sklearn/pipeline.py\u001b[0m in \u001b[0;36mfit\u001b[0;34m(self, X, y, **fit_params)\u001b[0m\n\u001b[1;32m    380\u001b[0m             \u001b[0;32mif\u001b[0m \u001b[0mself\u001b[0m\u001b[0;34m.\u001b[0m\u001b[0m_final_estimator\u001b[0m \u001b[0;34m!=\u001b[0m \u001b[0;34m\"passthrough\"\u001b[0m\u001b[0;34m:\u001b[0m\u001b[0;34m\u001b[0m\u001b[0;34m\u001b[0m\u001b[0m\n\u001b[1;32m    381\u001b[0m                 \u001b[0mfit_params_last_step\u001b[0m \u001b[0;34m=\u001b[0m \u001b[0mfit_params_steps\u001b[0m\u001b[0;34m[\u001b[0m\u001b[0mself\u001b[0m\u001b[0;34m.\u001b[0m\u001b[0msteps\u001b[0m\u001b[0;34m[\u001b[0m\u001b[0;34m-\u001b[0m\u001b[0;36m1\u001b[0m\u001b[0;34m]\u001b[0m\u001b[0;34m[\u001b[0m\u001b[0;36m0\u001b[0m\u001b[0;34m]\u001b[0m\u001b[0;34m]\u001b[0m\u001b[0;34m\u001b[0m\u001b[0;34m\u001b[0m\u001b[0m\n\u001b[0;32m--> 382\u001b[0;31m                 \u001b[0mself\u001b[0m\u001b[0;34m.\u001b[0m\u001b[0m_final_estimator\u001b[0m\u001b[0;34m.\u001b[0m\u001b[0mfit\u001b[0m\u001b[0;34m(\u001b[0m\u001b[0mXt\u001b[0m\u001b[0;34m,\u001b[0m \u001b[0my\u001b[0m\u001b[0;34m,\u001b[0m \u001b[0;34m**\u001b[0m\u001b[0mfit_params_last_step\u001b[0m\u001b[0;34m)\u001b[0m\u001b[0;34m\u001b[0m\u001b[0;34m\u001b[0m\u001b[0m\n\u001b[0m\u001b[1;32m    383\u001b[0m \u001b[0;34m\u001b[0m\u001b[0m\n\u001b[1;32m    384\u001b[0m         \u001b[0;32mreturn\u001b[0m \u001b[0mself\u001b[0m\u001b[0;34m\u001b[0m\u001b[0;34m\u001b[0m\u001b[0m\n",
      "\u001b[0;32m~/Library/Caches/pypoetry/virtualenvs/data-science-playbooks-BCpveUor-py3.10/lib/python3.10/site-packages/sklearn/ensemble/_forest.py\u001b[0m in \u001b[0;36mfit\u001b[0;34m(self, X, y, sample_weight)\u001b[0m\n\u001b[1;32m    329\u001b[0m         \u001b[0;32mif\u001b[0m \u001b[0missparse\u001b[0m\u001b[0;34m(\u001b[0m\u001b[0my\u001b[0m\u001b[0;34m)\u001b[0m\u001b[0;34m:\u001b[0m\u001b[0;34m\u001b[0m\u001b[0;34m\u001b[0m\u001b[0m\n\u001b[1;32m    330\u001b[0m             \u001b[0;32mraise\u001b[0m \u001b[0mValueError\u001b[0m\u001b[0;34m(\u001b[0m\u001b[0;34m\"sparse multilabel-indicator for y is not supported.\"\u001b[0m\u001b[0;34m)\u001b[0m\u001b[0;34m\u001b[0m\u001b[0;34m\u001b[0m\u001b[0m\n\u001b[0;32m--> 331\u001b[0;31m         X, y = self._validate_data(\n\u001b[0m\u001b[1;32m    332\u001b[0m             \u001b[0mX\u001b[0m\u001b[0;34m,\u001b[0m \u001b[0my\u001b[0m\u001b[0;34m,\u001b[0m \u001b[0mmulti_output\u001b[0m\u001b[0;34m=\u001b[0m\u001b[0;32mTrue\u001b[0m\u001b[0;34m,\u001b[0m \u001b[0maccept_sparse\u001b[0m\u001b[0;34m=\u001b[0m\u001b[0;34m\"csc\"\u001b[0m\u001b[0;34m,\u001b[0m \u001b[0mdtype\u001b[0m\u001b[0;34m=\u001b[0m\u001b[0mDTYPE\u001b[0m\u001b[0;34m\u001b[0m\u001b[0;34m\u001b[0m\u001b[0m\n\u001b[1;32m    333\u001b[0m         )\n",
      "\u001b[0;32m~/Library/Caches/pypoetry/virtualenvs/data-science-playbooks-BCpveUor-py3.10/lib/python3.10/site-packages/sklearn/base.py\u001b[0m in \u001b[0;36m_validate_data\u001b[0;34m(self, X, y, reset, validate_separately, **check_params)\u001b[0m\n\u001b[1;32m    594\u001b[0m                 \u001b[0my\u001b[0m \u001b[0;34m=\u001b[0m \u001b[0mcheck_array\u001b[0m\u001b[0;34m(\u001b[0m\u001b[0my\u001b[0m\u001b[0;34m,\u001b[0m \u001b[0minput_name\u001b[0m\u001b[0;34m=\u001b[0m\u001b[0;34m\"y\"\u001b[0m\u001b[0;34m,\u001b[0m \u001b[0;34m**\u001b[0m\u001b[0mcheck_y_params\u001b[0m\u001b[0;34m)\u001b[0m\u001b[0;34m\u001b[0m\u001b[0;34m\u001b[0m\u001b[0m\n\u001b[1;32m    595\u001b[0m             \u001b[0;32melse\u001b[0m\u001b[0;34m:\u001b[0m\u001b[0;34m\u001b[0m\u001b[0;34m\u001b[0m\u001b[0m\n\u001b[0;32m--> 596\u001b[0;31m                 \u001b[0mX\u001b[0m\u001b[0;34m,\u001b[0m \u001b[0my\u001b[0m \u001b[0;34m=\u001b[0m \u001b[0mcheck_X_y\u001b[0m\u001b[0;34m(\u001b[0m\u001b[0mX\u001b[0m\u001b[0;34m,\u001b[0m \u001b[0my\u001b[0m\u001b[0;34m,\u001b[0m \u001b[0;34m**\u001b[0m\u001b[0mcheck_params\u001b[0m\u001b[0;34m)\u001b[0m\u001b[0;34m\u001b[0m\u001b[0;34m\u001b[0m\u001b[0m\n\u001b[0m\u001b[1;32m    597\u001b[0m             \u001b[0mout\u001b[0m \u001b[0;34m=\u001b[0m \u001b[0mX\u001b[0m\u001b[0;34m,\u001b[0m \u001b[0my\u001b[0m\u001b[0;34m\u001b[0m\u001b[0;34m\u001b[0m\u001b[0m\n\u001b[1;32m    598\u001b[0m \u001b[0;34m\u001b[0m\u001b[0m\n",
      "\u001b[0;32m~/Library/Caches/pypoetry/virtualenvs/data-science-playbooks-BCpveUor-py3.10/lib/python3.10/site-packages/sklearn/utils/validation.py\u001b[0m in \u001b[0;36mcheck_X_y\u001b[0;34m(X, y, accept_sparse, accept_large_sparse, dtype, order, copy, force_all_finite, ensure_2d, allow_nd, multi_output, ensure_min_samples, ensure_min_features, y_numeric, estimator)\u001b[0m\n\u001b[1;32m   1090\u001b[0m     \u001b[0my\u001b[0m \u001b[0;34m=\u001b[0m \u001b[0m_check_y\u001b[0m\u001b[0;34m(\u001b[0m\u001b[0my\u001b[0m\u001b[0;34m,\u001b[0m \u001b[0mmulti_output\u001b[0m\u001b[0;34m=\u001b[0m\u001b[0mmulti_output\u001b[0m\u001b[0;34m,\u001b[0m \u001b[0my_numeric\u001b[0m\u001b[0;34m=\u001b[0m\u001b[0my_numeric\u001b[0m\u001b[0;34m,\u001b[0m \u001b[0mestimator\u001b[0m\u001b[0;34m=\u001b[0m\u001b[0mestimator\u001b[0m\u001b[0;34m)\u001b[0m\u001b[0;34m\u001b[0m\u001b[0;34m\u001b[0m\u001b[0m\n\u001b[1;32m   1091\u001b[0m \u001b[0;34m\u001b[0m\u001b[0m\n\u001b[0;32m-> 1092\u001b[0;31m     \u001b[0mcheck_consistent_length\u001b[0m\u001b[0;34m(\u001b[0m\u001b[0mX\u001b[0m\u001b[0;34m,\u001b[0m \u001b[0my\u001b[0m\u001b[0;34m)\u001b[0m\u001b[0;34m\u001b[0m\u001b[0;34m\u001b[0m\u001b[0m\n\u001b[0m\u001b[1;32m   1093\u001b[0m \u001b[0;34m\u001b[0m\u001b[0m\n\u001b[1;32m   1094\u001b[0m     \u001b[0;32mreturn\u001b[0m \u001b[0mX\u001b[0m\u001b[0;34m,\u001b[0m \u001b[0my\u001b[0m\u001b[0;34m\u001b[0m\u001b[0;34m\u001b[0m\u001b[0m\n",
      "\u001b[0;32m~/Library/Caches/pypoetry/virtualenvs/data-science-playbooks-BCpveUor-py3.10/lib/python3.10/site-packages/sklearn/utils/validation.py\u001b[0m in \u001b[0;36mcheck_consistent_length\u001b[0;34m(*arrays)\u001b[0m\n\u001b[1;32m    385\u001b[0m     \u001b[0muniques\u001b[0m \u001b[0;34m=\u001b[0m \u001b[0mnp\u001b[0m\u001b[0;34m.\u001b[0m\u001b[0munique\u001b[0m\u001b[0;34m(\u001b[0m\u001b[0mlengths\u001b[0m\u001b[0;34m)\u001b[0m\u001b[0;34m\u001b[0m\u001b[0;34m\u001b[0m\u001b[0m\n\u001b[1;32m    386\u001b[0m     \u001b[0;32mif\u001b[0m \u001b[0mlen\u001b[0m\u001b[0;34m(\u001b[0m\u001b[0muniques\u001b[0m\u001b[0;34m)\u001b[0m \u001b[0;34m>\u001b[0m \u001b[0;36m1\u001b[0m\u001b[0;34m:\u001b[0m\u001b[0;34m\u001b[0m\u001b[0;34m\u001b[0m\u001b[0m\n\u001b[0;32m--> 387\u001b[0;31m         raise ValueError(\n\u001b[0m\u001b[1;32m    388\u001b[0m             \u001b[0;34m\"Found input variables with inconsistent numbers of samples: %r\"\u001b[0m\u001b[0;34m\u001b[0m\u001b[0;34m\u001b[0m\u001b[0m\n\u001b[1;32m    389\u001b[0m             \u001b[0;34m%\u001b[0m \u001b[0;34m[\u001b[0m\u001b[0mint\u001b[0m\u001b[0;34m(\u001b[0m\u001b[0ml\u001b[0m\u001b[0;34m)\u001b[0m \u001b[0;32mfor\u001b[0m \u001b[0ml\u001b[0m \u001b[0;32min\u001b[0m \u001b[0mlengths\u001b[0m\u001b[0;34m]\u001b[0m\u001b[0;34m\u001b[0m\u001b[0;34m\u001b[0m\u001b[0m\n",
      "\u001b[0;31mValueError\u001b[0m: Found input variables with inconsistent numbers of samples: [936, 4225]"
     ]
    }
   ],
   "source": [
    "preprocessor = ColumnTransformer(\n",
    "    transformers=[(\"num\", numeric_transformer, numeric_features)]\n",
    ")\n",
    "\n",
    "clf = Pipeline(\n",
    "    # steps=[(\"preprocessor\", preprocessor), (\"classifier\", xgb.XGBClassifier(objective=\"binary:logistic\", random_state=RANDOM_STATE))]\n",
    "    steps=[(\"preprocessor\", preprocessor), (\"classifier\", RandomForestClassifier())]\n",
    ")\n",
    "\n",
    "clf.fit(feature_matrix_enc, y_train)\n",
    "print(\"model score: %.3f\" % clf.score(X_val, y_val))\n",
    "print(\"model score: %.3f\" % clf.score(X_test, y_test))"
   ]
  },
  {
   "cell_type": "markdown",
   "metadata": {},
   "source": [
    "## Estimating baseline Model"
   ]
  },
  {
   "cell_type": "code",
   "execution_count": null,
   "metadata": {},
   "outputs": [],
   "source": [
    "categorical_features = [\n",
    "    \"gender\",\n",
    "    \"SeniorCitizen\",\n",
    "    \"Partner\",\n",
    "    \"Dependents\",\n",
    "    \"PhoneService\",\n",
    "    \"MultipleLines\",\n",
    "    \"InternetService\",\n",
    "    \"OnlineSecurity\",\n",
    "    \"OnlineBackup\",\n",
    "    \"DeviceProtection\",\n",
    "    \"TechSupport\",\n",
    "    \"StreamingTV\",\n",
    "    \"StreamingMovies\",\n",
    "    \"Contract\",\n",
    "    \"PaperlessBilling\",\n",
    "    \"PaymentMethod\",\n",
    "]"
   ]
  },
  {
   "cell_type": "code",
   "execution_count": null,
   "metadata": {},
   "outputs": [],
   "source": [
    "one_hot_enc = OneHotEncoder(handle_unknown=\"ignore\")\n",
    "preprocessor = ColumnTransformer(\n",
    "    transformers=[\n",
    "        (\"num\", numeric_transformer, numeric_features),\n",
    "        (\"onehot\", one_hot_enc, categorical_features),\n",
    "    ]\n",
    ")\n",
    "preprocessor"
   ]
  },
  {
   "cell_type": "code",
   "execution_count": null,
   "metadata": {},
   "outputs": [],
   "source": [
    "from sklearn.ensemble import RandomForestClassifier\n",
    "\n",
    "clf = Pipeline(\n",
    "    # steps=[(\"preprocessor\", preprocessor), (\"classifier\", xgb.XGBClassifier(objective=\"binary:logistic\", random_state=RANDOM_STATE))]\n",
    "    steps=[(\"preprocessor\", preprocessor), (\"classifier\", RandomForestClassifier())]\n",
    ")\n",
    "\n",
    "clf.fit(X_train, y_train)\n",
    "print(\"model score: %.3f\" % clf.score(X_val, y_val))\n",
    "print(\"model score: %.3f\" % clf.score(X_test, y_test))"
   ]
  },
  {
   "cell_type": "code",
   "execution_count": 29,
   "metadata": {},
   "outputs": [
    {
     "data": {
      "text/plain": [
       "(936, 141)"
      ]
     },
     "execution_count": 29,
     "metadata": {},
     "output_type": "execute_result"
    }
   ],
   "source": [
    "#feature_matrix_enc.shape\n",
    "y_train.shape\n",
    "#X_train.shape\n",
    "feature_matrix.shape"
   ]
  }
 ],
 "metadata": {
  "kernelspec": {
   "display_name": "Python 3.10.6 ('data-science-playbooks-BCpveUor-py3.10')",
   "language": "python",
   "name": "python3"
  },
  "language_info": {
   "codemirror_mode": {
    "name": "ipython",
    "version": 3
   },
   "file_extension": ".py",
   "mimetype": "text/x-python",
   "name": "python",
   "nbconvert_exporter": "python",
   "pygments_lexer": "ipython3",
   "version": "3.10.6"
  },
  "orig_nbformat": 4,
  "vscode": {
   "interpreter": {
    "hash": "bee2308daca9d7493daa3ca6c18986251e2646dc5a84293a86d7cb61b114a88f"
   }
  }
 },
 "nbformat": 4,
 "nbformat_minor": 2
}
